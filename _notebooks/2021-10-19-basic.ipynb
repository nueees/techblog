{
  "nbformat": 4,
  "nbformat_minor": 0,
  "metadata": {
    "colab": {
      "name": "[실습] 2. 파이썬 기본 라이브러리.ipynb",
      "provenance": [],
      "collapsed_sections": []
    },
    "kernelspec": {
      "name": "python3",
      "display_name": "Python 3"
    }
  },
  "cells": [
    {
      "cell_type": "markdown",
      "metadata": {
        "id": "_AdTJNK4ODbU"
      },
      "source": [
        "# 파이썬 업무자동화를 위한 기초 모듈"
      ]
    },
    {
      "cell_type": "markdown",
      "metadata": {
        "id": "hUpqqXxfRSGb"
      },
      "source": [
        "(주)한국인공지능아카데미\n",
        "\n",
        "https://ai-academy.ai\n",
        "\n",
        "<img src=\"https://raw.githubusercontent.com/aiacademy131/aicamp_202008_lecture/master/logo.png\" width=\"100px\" />"
      ]
    },
    {
      "cell_type": "markdown",
      "metadata": {
        "id": "svCPsVoWq4xQ"
      },
      "source": [
        "강의 목표\n",
        "\n",
        "- 업무 자동화에 자주 사용되는 기본 모듈을 배운다\n",
        "- 모듈 용법에 익숙해 진다.\n"
      ]
    },
    {
      "cell_type": "markdown",
      "metadata": {
        "id": "c4BXJxcNO_4G"
      },
      "source": [
        "<img src=\"https://i.imgur.com/FOhc9d3.png\" width=\"400px\" />\n"
      ]
    },
    {
      "cell_type": "markdown",
      "metadata": {
        "id": "85vdFOSMh_dD"
      },
      "source": [
        "# random 모듈"
      ]
    },
    {
      "cell_type": "markdown",
      "metadata": {
        "id": "4-mHiI2EmB2W"
      },
      "source": [
        "<img src=\"https://community.cloudflare.steamstatic.com/economy/image/omZo-YJjnL2r9xAQz5PaYyxABqBEQKXhHNTOf8p9XsC7Uemib8efxHL3TV7V6gMAg2CI8uKS2WcSEUEYvx9-p7moJNfCrOz_Eb0WSefGfj3yvHAYfQ0MB6Y/360fx360f\" width=\"300px\" />\n",
        "\n"
      ]
    },
    {
      "cell_type": "markdown",
      "metadata": {
        "id": "6iwMptJ_iZro"
      },
      "source": [
        "\n",
        "```python\n",
        "# random 모듈 사용 예제\n",
        "import random\n",
        "print ( random.random() )\n",
        "```"
      ]
    },
    {
      "cell_type": "code",
      "metadata": {
        "id": "H2O41F3gKOcf",
        "colab": {
          "base_uri": "https://localhost:8080/"
        },
        "outputId": "d1ea4600-8e2c-4e0e-ef7a-73a2f065d57e"
      },
      "source": [
        "import random\n",
        "\n",
        "print( random.random() )\n",
        "\n"
      ],
      "execution_count": null,
      "outputs": [
        {
          "output_type": "stream",
          "text": [
            "0.14214797343390762\n"
          ],
          "name": "stdout"
        }
      ]
    },
    {
      "cell_type": "markdown",
      "metadata": {
        "id": "HhzIETH2GyYm"
      },
      "source": [
        "```\n",
        "print( random.randint(0,10) )\n",
        "```"
      ]
    },
    {
      "cell_type": "code",
      "metadata": {
        "id": "sf0Vpdaeitic",
        "colab": {
          "base_uri": "https://localhost:8080/"
        },
        "outputId": "79f5429a-2c2b-4974-a57d-1db6914e9403"
      },
      "source": [
        "print( random.randint(0, 1))\n",
        "\n"
      ],
      "execution_count": null,
      "outputs": [
        {
          "output_type": "stream",
          "text": [
            "1\n"
          ],
          "name": "stdout"
        }
      ]
    },
    {
      "cell_type": "markdown",
      "metadata": {
        "id": "OHlISzQpHEr4"
      },
      "source": [
        "```python\n",
        "from random import randint\n",
        "\n",
        "print( randint(10, 20) )\n",
        "```"
      ]
    },
    {
      "cell_type": "code",
      "metadata": {
        "id": "0os2CBWHiLbO",
        "colab": {
          "base_uri": "https://localhost:8080/"
        },
        "outputId": "87421fe6-2754-4580-f641-b1d2d597a24e"
      },
      "source": [
        "\n",
        "from random import randint\n",
        "\n",
        "print ( randint(10, 20) )\n",
        "\n"
      ],
      "execution_count": null,
      "outputs": [
        {
          "output_type": "stream",
          "text": [
            "18\n"
          ],
          "name": "stdout"
        }
      ]
    },
    {
      "cell_type": "markdown",
      "metadata": {
        "id": "M-X3ymg9HQZy"
      },
      "source": [
        "```python\n",
        "# 목록에서 하나의 값만 랜덤하게 선택\n",
        "from random import choice \n",
        "print ( choice ( ['김밥', '짜장면', '떡뽂이'] ))\n",
        "```"
      ]
    },
    {
      "cell_type": "code",
      "metadata": {
        "id": "5AYlMCbD1H_Y",
        "colab": {
          "base_uri": "https://localhost:8080/"
        },
        "outputId": "681ebc5b-258c-4505-efcb-f0f29653c39b"
      },
      "source": [
        "from random import choice\n",
        "\n",
        "menus = ['김밥', '짜장면', '떡뽁이' ]\n",
        "\n",
        "print( choice( menus ))\n"
      ],
      "execution_count": null,
      "outputs": [
        {
          "output_type": "stream",
          "text": [
            "짜장면\n"
          ],
          "name": "stdout"
        }
      ]
    },
    {
      "cell_type": "markdown",
      "metadata": {
        "id": "9RkwQy5yjCmc"
      },
      "source": [
        "<img src=\"https://i.imgur.com/08sMSZQ.png\" width=\"400px\" />\n"
      ]
    },
    {
      "cell_type": "markdown",
      "metadata": {
        "id": "ezyV7GREkk0E"
      },
      "source": [
        "'홍길동', '이순신', '허준', '길동이', '개똥이' 이중에서 한사람만 추첨하여 경품을 제공하는 시스템을 개발하세요!"
      ]
    },
    {
      "cell_type": "code",
      "metadata": {
        "colab": {
          "base_uri": "https://localhost:8080/"
        },
        "id": "7TM3CkGVi-fE",
        "outputId": "ed405f28-f8c6-45d8-efe2-40dcf409aac7"
      },
      "source": [
        "# import random 라이브러리\n",
        "# 힌트1 : randint\n",
        "\n",
        "from random import choice\n",
        "\n",
        "students = ['홍길동', '이순신', '허준', '길동이', '개똥이']\n",
        "\n",
        "\n",
        "winner_name = choice(students)\n",
        "\n",
        "print(f\"축하합니다. 경품 당첨자는 '{winner_name}' 입니다.\")"
      ],
      "execution_count": null,
      "outputs": [
        {
          "output_type": "stream",
          "text": [
            "축하합니다. 경품 당첨자는 '개똥이' 입니다.\n"
          ],
          "name": "stdout"
        }
      ]
    },
    {
      "cell_type": "code",
      "metadata": {
        "colab": {
          "base_uri": "https://localhost:8080/"
        },
        "id": "p2YhK0c5Cijt",
        "outputId": "bf28aa87-6dba-4e44-daac-515440ab56e3"
      },
      "source": [
        "name = \"이강훈\"\n",
        "\n",
        "print( \"안녕, \" + name )\n",
        "\n",
        "print( f\"안녕, {name}\")\n",
        "\n"
      ],
      "execution_count": null,
      "outputs": [
        {
          "output_type": "stream",
          "text": [
            "안녕, 이강훈\n",
            "안녕, 이강훈\n"
          ],
          "name": "stdout"
        }
      ]
    },
    {
      "cell_type": "markdown",
      "metadata": {
        "id": "L3rxvwGGmR4r"
      },
      "source": [
        "# os 모듈"
      ]
    },
    {
      "cell_type": "code",
      "metadata": {
        "id": "ZnoUGycxmY2h"
      },
      "source": [
        "import os"
      ],
      "execution_count": null,
      "outputs": []
    },
    {
      "cell_type": "markdown",
      "metadata": {
        "id": "tQcoCreIHhU0"
      },
      "source": [
        "```python\n",
        "# 폴더 목록 조회하기\n",
        "os.listdir()\n",
        "```"
      ]
    },
    {
      "cell_type": "code",
      "metadata": {
        "id": "I9gCNAtMnHMC",
        "colab": {
          "base_uri": "https://localhost:8080/"
        },
        "outputId": "df3924d4-ec70-4273-a6f8-5a4073e040a2"
      },
      "source": [
        "os.listdir()\n",
        "\n"
      ],
      "execution_count": null,
      "outputs": [
        {
          "output_type": "execute_result",
          "data": {
            "text/plain": [
              "['.config', 'sample_data']"
            ]
          },
          "metadata": {},
          "execution_count": 25
        }
      ]
    },
    {
      "cell_type": "code",
      "metadata": {
        "id": "b1a1e0NnnNNs",
        "colab": {
          "base_uri": "https://localhost:8080/"
        },
        "outputId": "259e1bb1-1e76-4f22-bbf0-6b12d0acd65a"
      },
      "source": [
        "os.listdir('sample_data')\n"
      ],
      "execution_count": null,
      "outputs": [
        {
          "output_type": "execute_result",
          "data": {
            "text/plain": [
              "['anscombe.json',\n",
              " 'README.md',\n",
              " 'mnist_test.csv',\n",
              " 'california_housing_train.csv',\n",
              " 'california_housing_test.csv',\n",
              " 'mnist_train_small.csv']"
            ]
          },
          "metadata": {},
          "execution_count": 26
        }
      ]
    },
    {
      "cell_type": "code",
      "metadata": {
        "id": "poVGsDfHnVcq",
        "colab": {
          "base_uri": "https://localhost:8080/"
        },
        "outputId": "e4b90164-d9f5-4e2f-939a-091954a4e9aa"
      },
      "source": [
        "if os.path.exists('test'):\n",
        "  print(\"이미 존재하는 폴더입니다.\")\n",
        "else:\n",
        "  os.makedirs('test')\n",
        "  print(\"폴더가 생성되었습니다.\")"
      ],
      "execution_count": null,
      "outputs": [
        {
          "output_type": "stream",
          "text": [
            "폴더가 생성되었습니다.\n"
          ],
          "name": "stdout"
        }
      ]
    },
    {
      "cell_type": "markdown",
      "metadata": {
        "id": "dwGIeZMypBWI"
      },
      "source": [
        "# 파일 다루기"
      ]
    },
    {
      "cell_type": "markdown",
      "metadata": {
        "id": "uRdHuLHVsxqo"
      },
      "source": [
        "\n",
        "<img src=\"https://i.imgur.com/IYg2W5S.png\" width=\"400px\" />\n"
      ]
    },
    {
      "cell_type": "markdown",
      "metadata": {
        "id": "wNZYh3OysCjQ"
      },
      "source": [
        "파일 쓰기"
      ]
    },
    {
      "cell_type": "markdown",
      "metadata": {
        "id": "MbO-9D-eHxIx"
      },
      "source": [
        "```python\n",
        "- open( '파일이름', mode=\"읽기/쓰기모드설정\", encoding=\"인코딩\")\n",
        "- write('문자열')\n",
        "```"
      ]
    },
    {
      "cell_type": "code",
      "metadata": {
        "id": "0jl9n8s0olds"
      },
      "source": [
        "with open('test.txt', mode='wt', encoding='utf-8') as file:\n",
        "  # 파일에 문자열 추가하기\n",
        "  file.write('안녕하세요.!!')\n",
        "  \n",
        "\n",
        "  "
      ],
      "execution_count": null,
      "outputs": []
    },
    {
      "cell_type": "markdown",
      "metadata": {
        "id": "NDSMa1XNsDmv"
      },
      "source": [
        "파일 읽기"
      ]
    },
    {
      "cell_type": "code",
      "metadata": {
        "id": "fBBOuSIApLBc",
        "colab": {
          "base_uri": "https://localhost:8080/"
        },
        "outputId": "a98f6753-92d8-42fc-c543-a10a4fda4439"
      },
      "source": [
        "with open('test.txt', mode='rt', encoding='utf-8') as file:\n",
        "  # 파일에서 한줄을 읽어와서 출력하기\n",
        "  print( file.readline() )\n",
        "\n",
        "  \n"
      ],
      "execution_count": null,
      "outputs": [
        {
          "output_type": "stream",
          "text": [
            "안녕하세요.!!\n"
          ],
          "name": "stdout"
        }
      ]
    },
    {
      "cell_type": "code",
      "metadata": {
        "id": "DuEytI2Srf1-"
      },
      "source": [
        ""
      ],
      "execution_count": null,
      "outputs": []
    }
  ]
}