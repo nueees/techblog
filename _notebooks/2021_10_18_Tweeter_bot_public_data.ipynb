{
  "nbformat": 4,
  "nbformat_minor": 2,
  "metadata": {
    "kernelspec": {
      "name": "python3",
      "display_name": "Python 3.8.8 64-bit ('base': conda)"
    },
    "language_info": {
      "codemirror_mode": {
        "name": "ipython",
        "version": 3
      },
      "file_extension": ".py",
      "mimetype": "text/x-python",
      "name": "python",
      "nbconvert_exporter": "python",
      "pygments_lexer": "ipython3",
      "version": "3.8.8"
    },
    "colab": {
      "name": "공공데이터_활용_트위터봇_만들기.ipynb",
      "provenance": [],
      "collapsed_sections": []
    },
    "interpreter": {
      "hash": "485035c5b2a6f2b50dc2dc5ca51aeeb931032fbc9adc2e30c7c528d6bf8a9176"
    }
  },
  "cells": [
    {
      "cell_type": "markdown",
      "source": [
        "# \"Weather forecast bot\"\r\n",
        "> \"Tweeter bot by public data\"\r\n",
        "\r\n",
        "- toc:true- branch: master\r\n",
        "- badges: true\r\n",
        "- comments: true\r\n",
        "- author: Seeeun Cho\r\n",
        "- categories: [ml, bot, jupyter]"
      ],
      "metadata": {}
    },
    {
      "cell_type": "markdown",
      "source": [
        "# 필요한 모듈 import"
      ],
      "metadata": {
        "id": "TtxVcaF_vD99"
      }
    },
    {
      "cell_type": "code",
      "execution_count": 5,
      "source": [
        "# from google.colab import drive\r\n",
        "# drive.mount('/content/gdrive')"
      ],
      "outputs": [
        {
          "output_type": "stream",
          "name": "stdout",
          "text": [
            "Drive already mounted at /content/gdrive; to attempt to forcibly remount, call drive.mount(\"/content/gdrive\", force_remount=True).\n"
          ]
        }
      ],
      "metadata": {
        "colab": {
          "base_uri": "https://localhost:8080/"
        },
        "id": "FToXd0K2vFOG",
        "outputId": "25363557-2e99-408b-e741-bb1a17801bfa"
      }
    },
    {
      "cell_type": "code",
      "execution_count": null,
      "source": [
        "import os\r\n",
        "os.chdir(\"C:/Users/Administrator/Documents/Python/210819_OSD강의/210914_챗봇\")"
      ],
      "outputs": [],
      "metadata": {
        "id": "VDE0sui1vGjA"
      }
    },
    {
      "cell_type": "code",
      "execution_count": null,
      "source": [],
      "outputs": [],
      "metadata": {
        "id": "zgYLaM4ZvGbM"
      }
    },
    {
      "cell_type": "code",
      "execution_count": 7,
      "source": [
        "#날짜 관련 모듈\r\n",
        "import datetime\r\n",
        "#엑셀 파일 여는 모듈\r\n",
        "import pandas as pd\r\n",
        "\r\n",
        "# API를 받는데 필요한 모듈\r\n",
        "from urllib.request import urlopen\r\n",
        "from urllib.parse import urlencode, unquote, quote_plus\r\n",
        "import urllib\r\n",
        "import requests\r\n",
        "import json"
      ],
      "outputs": [],
      "metadata": {
        "id": "IK8e43KVvD9-"
      }
    },
    {
      "cell_type": "markdown",
      "source": [
        "# 날씨 정보 가져오기"
      ],
      "metadata": {
        "id": "XoQck-VjvD9_"
      }
    },
    {
      "cell_type": "markdown",
      "source": [
        "## API 가져오는 법 \n",
        "1) 설명해주는 문서 파일 다운 받기 <br>\n",
        "2) 원하는 서비스 부분 찾기"
      ],
      "metadata": {
        "id": "UqiPEFfDvD9_"
      }
    },
    {
      "cell_type": "code",
      "execution_count": 34,
      "source": [
        "# service_key = \"JKBkm1cTZMa5YvwfJn/E7TCnhBbh47/XvuIrBiR9APo7tSY3fvnEzLMIaoXrYXc1S2v5pfRM//WND83nXinzpg==\"\r\n",
        "service_key_en = \"xTo1X81EZytMXeiOOxfIIWzLnjwGqIn2IbRqipzFLyileSskaztJfAWCojB7XKYy04wIgLcXJamPbWB0%2BsUkow%3D%3D\"\r\n",
        "service_key_de = \"xTo1X81EZytMXeiOOxfIIWzLnjwGqIn2IbRqipzFLyileSskaztJfAWCojB7XKYy04wIgLcXJamPbWB0+sUkow==\"\r\n",
        "\r\n",
        "today = datetime.datetime.today()\r\n",
        "base_date = today.strftime(\"%Y%m%d\") # \"20210913\" == 기준 날짜\r\n",
        "\r\n",
        "base_time = \"1400\" # 날씨 값 오늘은 0800기준으로 가져오겠습니다. (보통 40분 뒤에 업데이트)\r\n",
        "\r\n",
        "nx = \"61\"  #경도 지표 가져오기 : 월곡제2동\r\n",
        "ny = \"127\""
      ],
      "outputs": [],
      "metadata": {
        "id": "dQmyu-hevD9_"
      }
    },
    {
      "cell_type": "code",
      "execution_count": 9,
      "source": [
        "today = datetime.datetime.today()\r\n",
        "base_date = today.strftime(\"%Y%m%d\") # \"20210723\" == 기준 날짜\r\n",
        "base_date"
      ],
      "outputs": [
        {
          "output_type": "execute_result",
          "data": {
            "application/vnd.google.colaboratory.intrinsic+json": {
              "type": "string"
            },
            "text/plain": [
              "'20210914'"
            ]
          },
          "metadata": {},
          "execution_count": 9
        }
      ],
      "metadata": {
        "colab": {
          "base_uri": "https://localhost:8080/",
          "height": 35
        },
        "id": "Q8PcUa0WagVQ",
        "outputId": "48d9d94b-9627-4884-a637-fc092ec72694"
      }
    },
    {
      "cell_type": "markdown",
      "source": [
        "## 데이터 가져오기"
      ],
      "metadata": {
        "id": "RDy_Vdg5vD9_"
      }
    },
    {
      "cell_type": "markdown",
      "source": [
        "동네예보\n",
        "- Base_time : 0200, 0500, 0800, 1100, 1400, 1700, 2000, 2300 (1일 8회)\n",
        "- API 제공 시간(~이후) : 02:05, 05:05, 08:05, 11:05, 14:05, 17:05, 20:05, 23:05 <br>\n",
        "※ 예보 생성시간에 따라 API 제공 시간의 변동이 있을 수 있음\n"
      ],
      "metadata": {
        "id": "4vB_7W0CvD9_"
      }
    },
    {
      "cell_type": "code",
      "execution_count": 35,
      "source": [
        "def get_weather_data(service_key, base_date, base_time, nx, ny):\r\n",
        "    # Setting for URL parsing\r\n",
        "\r\n",
        "    CallBackURL = 'http://apis.data.go.kr/1360000/VilageFcstInfoService_2.0/getVilageFcst'\r\n",
        "    params = '?' + urlencode({\r\n",
        "        quote_plus(\"serviceKey\"): service_key,      # 인증키\r\n",
        "        quote_plus(\"numOfRows\"): \"10\",          # 한 페이지 결과 수 // default : 10\r\n",
        "        quote_plus(\"pageNo\"): \"1\",              # 페이지 번호 // default : 1\r\n",
        "        quote_plus(\"dataType\"): \"JSON\",         # 응답자료형식 : XML, JSON\r\n",
        "        quote_plus(\"base_date\"): base_date,    # 발표일자 // yyyymmdd\r\n",
        "        quote_plus(\"base_time\"): base_time,        # 발표시각 // HHMM, 매 시각 40분 이후 호출\r\n",
        "        quote_plus(\"nx\"): nx,                # 예보지점 X 좌표\r\n",
        "        quote_plus(\"ny\"): ny                 # 예보지점 Y 좌표\r\n",
        "    })\r\n",
        "\r\n",
        "    final_url = CallBackURL + unquote(params)\r\n",
        "    # 파이썬이 url로 들어가서 데이터를 가져온다. \r\n",
        "    req = urllib.request.Request(final_url)\r\n",
        "\r\n",
        "    # Get Data from API\r\n",
        "    # 가지고온 데이터를 파이썬이 읽는다. \r\n",
        "    response_body = urlopen(req).read() # get bytes data\r\n",
        "\r\n",
        "    print(response_body)\r\n",
        "    # # Convert bytes to json\r\n",
        "    ## 사람이 볼수있게 바꾼다. \r\n",
        "    data = json.loads(response_body)\r\n",
        "\r\n",
        "    data = data['response']['body']['items']['item']\r\n",
        "    \r\n",
        "    return data\r\n"
      ],
      "outputs": [],
      "metadata": {
        "id": "E3rIKfSwvD9_"
      }
    },
    {
      "cell_type": "markdown",
      "source": [
        "## 데이터 받기"
      ],
      "metadata": {
        "id": "j5_NL0zPvD-A"
      }
    },
    {
      "cell_type": "code",
      "execution_count": 36,
      "source": [
        "print(service_key_en)\r\n",
        "print(base_date)\r\n",
        "print(base_time)\r\n",
        "print(nx)\r\n",
        "print(ny)\r\n",
        "data = get_weather_data(service_key_en, base_date, base_time, nx, ny)"
      ],
      "outputs": [
        {
          "output_type": "stream",
          "name": "stdout",
          "text": [
            "xTo1X81EZytMXeiOOxfIIWzLnjwGqIn2IbRqipzFLyileSskaztJfAWCojB7XKYy04wIgLcXJamPbWB0%2BsUkow%3D%3D\n",
            "20210914\n",
            "1400\n",
            "61\n",
            "127\n",
            "b'{\"response\":{\"header\":{\"resultCode\":\"00\",\"resultMsg\":\"NORMAL_SERVICE\"},\"body\":{\"dataType\":\"JSON\",\"items\":{\"item\":[{\"baseDate\":\"20210914\",\"baseTime\":\"1400\",\"category\":\"TMP\",\"fcstDate\":\"20210914\",\"fcstTime\":\"1500\",\"fcstValue\":\"30\",\"nx\":61,\"ny\":127},{\"baseDate\":\"20210914\",\"baseTime\":\"1400\",\"category\":\"UUU\",\"fcstDate\":\"20210914\",\"fcstTime\":\"1500\",\"fcstValue\":\"-2.5\",\"nx\":61,\"ny\":127},{\"baseDate\":\"20210914\",\"baseTime\":\"1400\",\"category\":\"VVV\",\"fcstDate\":\"20210914\",\"fcstTime\":\"1500\",\"fcstValue\":\"-1\",\"nx\":61,\"ny\":127},{\"baseDate\":\"20210914\",\"baseTime\":\"1400\",\"category\":\"VEC\",\"fcstDate\":\"20210914\",\"fcstTime\":\"1500\",\"fcstValue\":\"69\",\"nx\":61,\"ny\":127},{\"baseDate\":\"20210914\",\"baseTime\":\"1400\",\"category\":\"WSD\",\"fcstDate\":\"20210914\",\"fcstTime\":\"1500\",\"fcstValue\":\"2.7\",\"nx\":61,\"ny\":127},{\"baseDate\":\"20210914\",\"baseTime\":\"1400\",\"category\":\"SKY\",\"fcstDate\":\"20210914\",\"fcstTime\":\"1500\",\"fcstValue\":\"1\",\"nx\":61,\"ny\":127},{\"baseDate\":\"20210914\",\"baseTime\":\"1400\",\"category\":\"PTY\",\"fcstDate\":\"20210914\",\"fcstTime\":\"1500\",\"fcstValue\":\"0\",\"nx\":61,\"ny\":127},{\"baseDate\":\"20210914\",\"baseTime\":\"1400\",\"category\":\"POP\",\"fcstDate\":\"20210914\",\"fcstTime\":\"1500\",\"fcstValue\":\"0\",\"nx\":61,\"ny\":127},{\"baseDate\":\"20210914\",\"baseTime\":\"1400\",\"category\":\"PCP\",\"fcstDate\":\"20210914\",\"fcstTime\":\"1500\",\"fcstValue\":\"\\xea\\xb0\\x95\\xec\\x88\\x98\\xec\\x97\\x86\\xec\\x9d\\x8c\",\"nx\":61,\"ny\":127},{\"baseDate\":\"20210914\",\"baseTime\":\"1400\",\"category\":\"REH\",\"fcstDate\":\"20210914\",\"fcstTime\":\"1500\",\"fcstValue\":\"40\",\"nx\":61,\"ny\":127}]},\"pageNo\":1,\"numOfRows\":10,\"totalCount\":642}}}'\n"
          ]
        }
      ],
      "metadata": {
        "id": "3We9QUOlvD-A",
        "outputId": "6be8b813-5986-4245-cef2-361d5130f5eb",
        "colab": {
          "base_uri": "https://localhost:8080/"
        }
      }
    },
    {
      "cell_type": "code",
      "execution_count": 37,
      "source": [
        "data"
      ],
      "outputs": [
        {
          "output_type": "execute_result",
          "data": {
            "text/plain": [
              "[{'baseDate': '20210914',\n",
              "  'baseTime': '1400',\n",
              "  'category': 'TMP',\n",
              "  'fcstDate': '20210914',\n",
              "  'fcstTime': '1500',\n",
              "  'fcstValue': '30',\n",
              "  'nx': 61,\n",
              "  'ny': 127},\n",
              " {'baseDate': '20210914',\n",
              "  'baseTime': '1400',\n",
              "  'category': 'UUU',\n",
              "  'fcstDate': '20210914',\n",
              "  'fcstTime': '1500',\n",
              "  'fcstValue': '-2.5',\n",
              "  'nx': 61,\n",
              "  'ny': 127},\n",
              " {'baseDate': '20210914',\n",
              "  'baseTime': '1400',\n",
              "  'category': 'VVV',\n",
              "  'fcstDate': '20210914',\n",
              "  'fcstTime': '1500',\n",
              "  'fcstValue': '-1',\n",
              "  'nx': 61,\n",
              "  'ny': 127},\n",
              " {'baseDate': '20210914',\n",
              "  'baseTime': '1400',\n",
              "  'category': 'VEC',\n",
              "  'fcstDate': '20210914',\n",
              "  'fcstTime': '1500',\n",
              "  'fcstValue': '69',\n",
              "  'nx': 61,\n",
              "  'ny': 127},\n",
              " {'baseDate': '20210914',\n",
              "  'baseTime': '1400',\n",
              "  'category': 'WSD',\n",
              "  'fcstDate': '20210914',\n",
              "  'fcstTime': '1500',\n",
              "  'fcstValue': '2.7',\n",
              "  'nx': 61,\n",
              "  'ny': 127},\n",
              " {'baseDate': '20210914',\n",
              "  'baseTime': '1400',\n",
              "  'category': 'SKY',\n",
              "  'fcstDate': '20210914',\n",
              "  'fcstTime': '1500',\n",
              "  'fcstValue': '1',\n",
              "  'nx': 61,\n",
              "  'ny': 127},\n",
              " {'baseDate': '20210914',\n",
              "  'baseTime': '1400',\n",
              "  'category': 'PTY',\n",
              "  'fcstDate': '20210914',\n",
              "  'fcstTime': '1500',\n",
              "  'fcstValue': '0',\n",
              "  'nx': 61,\n",
              "  'ny': 127},\n",
              " {'baseDate': '20210914',\n",
              "  'baseTime': '1400',\n",
              "  'category': 'POP',\n",
              "  'fcstDate': '20210914',\n",
              "  'fcstTime': '1500',\n",
              "  'fcstValue': '0',\n",
              "  'nx': 61,\n",
              "  'ny': 127},\n",
              " {'baseDate': '20210914',\n",
              "  'baseTime': '1400',\n",
              "  'category': 'PCP',\n",
              "  'fcstDate': '20210914',\n",
              "  'fcstTime': '1500',\n",
              "  'fcstValue': '강수없음',\n",
              "  'nx': 61,\n",
              "  'ny': 127},\n",
              " {'baseDate': '20210914',\n",
              "  'baseTime': '1400',\n",
              "  'category': 'REH',\n",
              "  'fcstDate': '20210914',\n",
              "  'fcstTime': '1500',\n",
              "  'fcstValue': '40',\n",
              "  'nx': 61,\n",
              "  'ny': 127}]"
            ]
          },
          "metadata": {},
          "execution_count": 37
        }
      ],
      "metadata": {
        "scrolled": true,
        "colab": {
          "base_uri": "https://localhost:8080/"
        },
        "id": "_V__YpX7vD-A",
        "outputId": "d9ba92a0-5806-4db4-d68d-712ae5828cb6"
      }
    },
    {
      "cell_type": "markdown",
      "source": [
        "## 보기 편하게 바꿔주기"
      ],
      "metadata": {
        "id": "OXFhmo4qvD-B"
      }
    },
    {
      "cell_type": "code",
      "execution_count": 40,
      "source": [
        "def change_category(category):\n",
        "    response_key = {'PCP':'1시간 강수량', 'TMP':'1시간 기온', 'POP' : \"강수확률\", 'PTY' : \"강수형태\", 'R06' : \"6시간 강수량\", 'REH' : \"습도\", 'S06' : '6시간 신적설', 'SKY':'하늘상태','T3H' : \"3시간 기온\", \"TMN\" : \"아침 최저기온\", \"TMX\" : \"낮 최고기온\", \"UUU\" : \"풍속(동서성분)\", \"VVV\" : \"풍속(남북성분)\", \"WAV\":\"파고\", \"VEC\" : \"풍향\", \"WSD\" : \"풍속\"}\n",
        "    return response_key[category]\n",
        "\n",
        "\n",
        "# # Result\n",
        "res = pd.DataFrame(data)\n",
        "\n",
        "\n",
        "res['category'] = res['category'].apply(change_category)\n",
        "\n",
        "res"
      ],
      "outputs": [
        {
          "output_type": "execute_result",
          "data": {
            "text/html": [
              "<div>\n",
              "<style scoped>\n",
              "    .dataframe tbody tr th:only-of-type {\n",
              "        vertical-align: middle;\n",
              "    }\n",
              "\n",
              "    .dataframe tbody tr th {\n",
              "        vertical-align: top;\n",
              "    }\n",
              "\n",
              "    .dataframe thead th {\n",
              "        text-align: right;\n",
              "    }\n",
              "</style>\n",
              "<table border=\"1\" class=\"dataframe\">\n",
              "  <thead>\n",
              "    <tr style=\"text-align: right;\">\n",
              "      <th></th>\n",
              "      <th>baseDate</th>\n",
              "      <th>baseTime</th>\n",
              "      <th>category</th>\n",
              "      <th>fcstDate</th>\n",
              "      <th>fcstTime</th>\n",
              "      <th>fcstValue</th>\n",
              "      <th>nx</th>\n",
              "      <th>ny</th>\n",
              "    </tr>\n",
              "  </thead>\n",
              "  <tbody>\n",
              "    <tr>\n",
              "      <th>0</th>\n",
              "      <td>20210914</td>\n",
              "      <td>1400</td>\n",
              "      <td>1시간 기온</td>\n",
              "      <td>20210914</td>\n",
              "      <td>1500</td>\n",
              "      <td>30</td>\n",
              "      <td>61</td>\n",
              "      <td>127</td>\n",
              "    </tr>\n",
              "    <tr>\n",
              "      <th>1</th>\n",
              "      <td>20210914</td>\n",
              "      <td>1400</td>\n",
              "      <td>풍속(동서성분)</td>\n",
              "      <td>20210914</td>\n",
              "      <td>1500</td>\n",
              "      <td>-2.5</td>\n",
              "      <td>61</td>\n",
              "      <td>127</td>\n",
              "    </tr>\n",
              "    <tr>\n",
              "      <th>2</th>\n",
              "      <td>20210914</td>\n",
              "      <td>1400</td>\n",
              "      <td>풍속(남북성분)</td>\n",
              "      <td>20210914</td>\n",
              "      <td>1500</td>\n",
              "      <td>-1</td>\n",
              "      <td>61</td>\n",
              "      <td>127</td>\n",
              "    </tr>\n",
              "    <tr>\n",
              "      <th>3</th>\n",
              "      <td>20210914</td>\n",
              "      <td>1400</td>\n",
              "      <td>풍향</td>\n",
              "      <td>20210914</td>\n",
              "      <td>1500</td>\n",
              "      <td>69</td>\n",
              "      <td>61</td>\n",
              "      <td>127</td>\n",
              "    </tr>\n",
              "    <tr>\n",
              "      <th>4</th>\n",
              "      <td>20210914</td>\n",
              "      <td>1400</td>\n",
              "      <td>풍속</td>\n",
              "      <td>20210914</td>\n",
              "      <td>1500</td>\n",
              "      <td>2.7</td>\n",
              "      <td>61</td>\n",
              "      <td>127</td>\n",
              "    </tr>\n",
              "    <tr>\n",
              "      <th>5</th>\n",
              "      <td>20210914</td>\n",
              "      <td>1400</td>\n",
              "      <td>하늘상태</td>\n",
              "      <td>20210914</td>\n",
              "      <td>1500</td>\n",
              "      <td>1</td>\n",
              "      <td>61</td>\n",
              "      <td>127</td>\n",
              "    </tr>\n",
              "    <tr>\n",
              "      <th>6</th>\n",
              "      <td>20210914</td>\n",
              "      <td>1400</td>\n",
              "      <td>강수형태</td>\n",
              "      <td>20210914</td>\n",
              "      <td>1500</td>\n",
              "      <td>0</td>\n",
              "      <td>61</td>\n",
              "      <td>127</td>\n",
              "    </tr>\n",
              "    <tr>\n",
              "      <th>7</th>\n",
              "      <td>20210914</td>\n",
              "      <td>1400</td>\n",
              "      <td>강수확률</td>\n",
              "      <td>20210914</td>\n",
              "      <td>1500</td>\n",
              "      <td>0</td>\n",
              "      <td>61</td>\n",
              "      <td>127</td>\n",
              "    </tr>\n",
              "    <tr>\n",
              "      <th>8</th>\n",
              "      <td>20210914</td>\n",
              "      <td>1400</td>\n",
              "      <td>1시간 강수량</td>\n",
              "      <td>20210914</td>\n",
              "      <td>1500</td>\n",
              "      <td>강수없음</td>\n",
              "      <td>61</td>\n",
              "      <td>127</td>\n",
              "    </tr>\n",
              "    <tr>\n",
              "      <th>9</th>\n",
              "      <td>20210914</td>\n",
              "      <td>1400</td>\n",
              "      <td>습도</td>\n",
              "      <td>20210914</td>\n",
              "      <td>1500</td>\n",
              "      <td>40</td>\n",
              "      <td>61</td>\n",
              "      <td>127</td>\n",
              "    </tr>\n",
              "  </tbody>\n",
              "</table>\n",
              "</div>"
            ],
            "text/plain": [
              "   baseDate baseTime  category  fcstDate fcstTime fcstValue  nx   ny\n",
              "0  20210914     1400    1시간 기온  20210914     1500        30  61  127\n",
              "1  20210914     1400  풍속(동서성분)  20210914     1500      -2.5  61  127\n",
              "2  20210914     1400  풍속(남북성분)  20210914     1500        -1  61  127\n",
              "3  20210914     1400        풍향  20210914     1500        69  61  127\n",
              "4  20210914     1400        풍속  20210914     1500       2.7  61  127\n",
              "5  20210914     1400      하늘상태  20210914     1500         1  61  127\n",
              "6  20210914     1400      강수형태  20210914     1500         0  61  127\n",
              "7  20210914     1400      강수확률  20210914     1500         0  61  127\n",
              "8  20210914     1400   1시간 강수량  20210914     1500      강수없음  61  127\n",
              "9  20210914     1400        습도  20210914     1500        40  61  127"
            ]
          },
          "metadata": {},
          "execution_count": 40
        }
      ],
      "metadata": {
        "colab": {
          "base_uri": "https://localhost:8080/",
          "height": 359
        },
        "id": "JcQkJ7TBvD-B",
        "outputId": "a0b843fa-70e4-4043-e6ef-62fdeee7864a"
      }
    },
    {
      "cell_type": "markdown",
      "source": [
        "## 기온과 비 오는 지 여부 확인하기"
      ],
      "metadata": {
        "id": "Pzaqs0QQvD-B"
      }
    },
    {
      "cell_type": "code",
      "execution_count": 41,
      "source": [
        "# 이 값들 중에서 PTY(강수형태)와 T3H(3시간 기온) 정보를 통해 비가 오는지, 기온은 어떠한지 알 수 있습니다.\n",
        "\n",
        "# PTY : 0-없음 1-비 2-비/눈(진눈깨비) 3-눈 4-소나기\n",
        "data = dict()\n",
        "data['date'] = res.iloc[0]['baseDate']\n",
        "data"
      ],
      "outputs": [
        {
          "output_type": "execute_result",
          "data": {
            "text/plain": [
              "{'date': '20210914'}"
            ]
          },
          "metadata": {},
          "execution_count": 41
        }
      ],
      "metadata": {
        "id": "K_GJe5KGvD-B",
        "colab": {
          "base_uri": "https://localhost:8080/"
        },
        "outputId": "b3609988-fafe-40be-9213-8e7b5a99ba29"
      }
    },
    {
      "cell_type": "markdown",
      "source": [
        "## 기온 확인"
      ],
      "metadata": {
        "id": "gqEjAR9hvD-B"
      }
    },
    {
      "cell_type": "code",
      "execution_count": 42,
      "source": [
        "res"
      ],
      "outputs": [
        {
          "output_type": "execute_result",
          "data": {
            "text/html": [
              "<div>\n",
              "<style scoped>\n",
              "    .dataframe tbody tr th:only-of-type {\n",
              "        vertical-align: middle;\n",
              "    }\n",
              "\n",
              "    .dataframe tbody tr th {\n",
              "        vertical-align: top;\n",
              "    }\n",
              "\n",
              "    .dataframe thead th {\n",
              "        text-align: right;\n",
              "    }\n",
              "</style>\n",
              "<table border=\"1\" class=\"dataframe\">\n",
              "  <thead>\n",
              "    <tr style=\"text-align: right;\">\n",
              "      <th></th>\n",
              "      <th>baseDate</th>\n",
              "      <th>baseTime</th>\n",
              "      <th>category</th>\n",
              "      <th>fcstDate</th>\n",
              "      <th>fcstTime</th>\n",
              "      <th>fcstValue</th>\n",
              "      <th>nx</th>\n",
              "      <th>ny</th>\n",
              "    </tr>\n",
              "  </thead>\n",
              "  <tbody>\n",
              "    <tr>\n",
              "      <th>0</th>\n",
              "      <td>20210914</td>\n",
              "      <td>1400</td>\n",
              "      <td>1시간 기온</td>\n",
              "      <td>20210914</td>\n",
              "      <td>1500</td>\n",
              "      <td>30</td>\n",
              "      <td>61</td>\n",
              "      <td>127</td>\n",
              "    </tr>\n",
              "    <tr>\n",
              "      <th>1</th>\n",
              "      <td>20210914</td>\n",
              "      <td>1400</td>\n",
              "      <td>풍속(동서성분)</td>\n",
              "      <td>20210914</td>\n",
              "      <td>1500</td>\n",
              "      <td>-2.5</td>\n",
              "      <td>61</td>\n",
              "      <td>127</td>\n",
              "    </tr>\n",
              "    <tr>\n",
              "      <th>2</th>\n",
              "      <td>20210914</td>\n",
              "      <td>1400</td>\n",
              "      <td>풍속(남북성분)</td>\n",
              "      <td>20210914</td>\n",
              "      <td>1500</td>\n",
              "      <td>-1</td>\n",
              "      <td>61</td>\n",
              "      <td>127</td>\n",
              "    </tr>\n",
              "    <tr>\n",
              "      <th>3</th>\n",
              "      <td>20210914</td>\n",
              "      <td>1400</td>\n",
              "      <td>풍향</td>\n",
              "      <td>20210914</td>\n",
              "      <td>1500</td>\n",
              "      <td>69</td>\n",
              "      <td>61</td>\n",
              "      <td>127</td>\n",
              "    </tr>\n",
              "    <tr>\n",
              "      <th>4</th>\n",
              "      <td>20210914</td>\n",
              "      <td>1400</td>\n",
              "      <td>풍속</td>\n",
              "      <td>20210914</td>\n",
              "      <td>1500</td>\n",
              "      <td>2.7</td>\n",
              "      <td>61</td>\n",
              "      <td>127</td>\n",
              "    </tr>\n",
              "    <tr>\n",
              "      <th>5</th>\n",
              "      <td>20210914</td>\n",
              "      <td>1400</td>\n",
              "      <td>하늘상태</td>\n",
              "      <td>20210914</td>\n",
              "      <td>1500</td>\n",
              "      <td>1</td>\n",
              "      <td>61</td>\n",
              "      <td>127</td>\n",
              "    </tr>\n",
              "    <tr>\n",
              "      <th>6</th>\n",
              "      <td>20210914</td>\n",
              "      <td>1400</td>\n",
              "      <td>강수형태</td>\n",
              "      <td>20210914</td>\n",
              "      <td>1500</td>\n",
              "      <td>0</td>\n",
              "      <td>61</td>\n",
              "      <td>127</td>\n",
              "    </tr>\n",
              "    <tr>\n",
              "      <th>7</th>\n",
              "      <td>20210914</td>\n",
              "      <td>1400</td>\n",
              "      <td>강수확률</td>\n",
              "      <td>20210914</td>\n",
              "      <td>1500</td>\n",
              "      <td>0</td>\n",
              "      <td>61</td>\n",
              "      <td>127</td>\n",
              "    </tr>\n",
              "    <tr>\n",
              "      <th>8</th>\n",
              "      <td>20210914</td>\n",
              "      <td>1400</td>\n",
              "      <td>1시간 강수량</td>\n",
              "      <td>20210914</td>\n",
              "      <td>1500</td>\n",
              "      <td>강수없음</td>\n",
              "      <td>61</td>\n",
              "      <td>127</td>\n",
              "    </tr>\n",
              "    <tr>\n",
              "      <th>9</th>\n",
              "      <td>20210914</td>\n",
              "      <td>1400</td>\n",
              "      <td>습도</td>\n",
              "      <td>20210914</td>\n",
              "      <td>1500</td>\n",
              "      <td>40</td>\n",
              "      <td>61</td>\n",
              "      <td>127</td>\n",
              "    </tr>\n",
              "  </tbody>\n",
              "</table>\n",
              "</div>"
            ],
            "text/plain": [
              "   baseDate baseTime  category  fcstDate fcstTime fcstValue  nx   ny\n",
              "0  20210914     1400    1시간 기온  20210914     1500        30  61  127\n",
              "1  20210914     1400  풍속(동서성분)  20210914     1500      -2.5  61  127\n",
              "2  20210914     1400  풍속(남북성분)  20210914     1500        -1  61  127\n",
              "3  20210914     1400        풍향  20210914     1500        69  61  127\n",
              "4  20210914     1400        풍속  20210914     1500       2.7  61  127\n",
              "5  20210914     1400      하늘상태  20210914     1500         1  61  127\n",
              "6  20210914     1400      강수형태  20210914     1500         0  61  127\n",
              "7  20210914     1400      강수확률  20210914     1500         0  61  127\n",
              "8  20210914     1400   1시간 강수량  20210914     1500      강수없음  61  127\n",
              "9  20210914     1400        습도  20210914     1500        40  61  127"
            ]
          },
          "metadata": {},
          "execution_count": 42
        }
      ],
      "metadata": {
        "colab": {
          "base_uri": "https://localhost:8080/",
          "height": 359
        },
        "id": "BayWxUp2c6Hq",
        "outputId": "3eee8b9b-d75b-4329-9739-9de5e2be1039"
      }
    },
    {
      "cell_type": "code",
      "execution_count": 44,
      "source": [
        "temparature = res.loc[res[\"category\"]=='1시간 기온', 'fcstValue'].iloc[0]\r\n",
        "\r\n",
        "data['temperature'] = temparature\r\n",
        "data"
      ],
      "outputs": [
        {
          "output_type": "execute_result",
          "data": {
            "text/plain": [
              "{'date': '20210914', 'temperature': '30'}"
            ]
          },
          "metadata": {},
          "execution_count": 44
        }
      ],
      "metadata": {
        "colab": {
          "base_uri": "https://localhost:8080/"
        },
        "id": "8T9GjDm8vD-B",
        "outputId": "2ac52ab2-74aa-456c-81cd-7007d0ec4e7e"
      }
    },
    {
      "cell_type": "markdown",
      "source": [
        "## 날씨 여부 확인"
      ],
      "metadata": {
        "id": "g-KyX_revD-B"
      }
    },
    {
      "cell_type": "markdown",
      "source": [
        "강수형태(PTY) 코드 : 없음(0), 비(1), 비/눈(2), 눈(3), 소나기(4), 빗방울(5), 빗방울/눈날림(6), 눈날림(7) <br>\n",
        "여기서 비/눈은 비와 눈이 섞여 오는 것을 의미 (진눈개비)\n"
      ],
      "metadata": {
        "id": "BiVOboKqvD-C"
      }
    },
    {
      "cell_type": "code",
      "execution_count": 45,
      "source": [
        "weather_data = dict()\r\n",
        "\r\n",
        "weather_code = res.loc[res[\"category\"]=='강수형태', 'fcstValue'].iloc[0]\r\n",
        "if weather_code == '1':\r\n",
        "    weather_state = '비'\r\n",
        "elif weather_code == '2':\r\n",
        "    weather_state = '비/눈'\r\n",
        "elif weather_code == '3':\r\n",
        "    weather_state = '눈'\r\n",
        "elif weather_code == '4':\r\n",
        "    weather_state = '소나기'\r\n",
        "else:\r\n",
        "    weather_state = '없음'"
      ],
      "outputs": [],
      "metadata": {
        "id": "3GzGDRQCvD-C"
      }
    },
    {
      "cell_type": "code",
      "execution_count": 46,
      "source": [
        "weather_state"
      ],
      "outputs": [
        {
          "output_type": "execute_result",
          "data": {
            "application/vnd.google.colaboratory.intrinsic+json": {
              "type": "string"
            },
            "text/plain": [
              "'없음'"
            ]
          },
          "metadata": {},
          "execution_count": 46
        }
      ],
      "metadata": {
        "colab": {
          "base_uri": "https://localhost:8080/",
          "height": 35
        },
        "id": "SRgXfC99dONc",
        "outputId": "ecd41b69-8b04-4c01-fcad-4a3d1120df82"
      }
    },
    {
      "cell_type": "markdown",
      "source": [
        "### 함수로 만들기"
      ],
      "metadata": {
        "id": "9L2prUbvvs3d"
      }
    },
    {
      "cell_type": "code",
      "execution_count": 47,
      "source": [
        "def get_PTY(res):\n",
        "    ''' \n",
        "    강수형태(PTY) 코드 : 없음(0), 비(1), 비/눈(2), 눈(3), 소나기(4), 빗방울(5), 빗방울/눈날림(6), 눈날림(7) <br>\n",
        "    여기서 비/눈은 비와 눈이 섞여 오는 것을 의미 (진눈개비)\n",
        "    '''\n",
        "    weather_data = dict()\n",
        "\n",
        "    weather_code = res.loc[res[\"category\"]=='강수형태', 'fcstValue'].iloc[0]\n",
        "    if weather_code == '1':\n",
        "        weather_state = '비'\n",
        "    elif weather_code == '2':\n",
        "        weather_state = '비/눈'\n",
        "    elif weather_code == '3':\n",
        "        weather_state = '눈'\n",
        "    elif weather_code == '4':\n",
        "        weather_state = '소나기'\n",
        "    else:\n",
        "        weather_state = '없음'\n",
        "    return weather_state\n"
      ],
      "outputs": [],
      "metadata": {
        "id": "NeBkNajtvD-C"
      }
    },
    {
      "cell_type": "code",
      "execution_count": 48,
      "source": [
        "weather_state = get_PTY(res)\n",
        "data['weather'] = weather_state"
      ],
      "outputs": [],
      "metadata": {
        "id": "NFdOECiavD-C"
      }
    },
    {
      "cell_type": "code",
      "execution_count": 49,
      "source": [
        "data"
      ],
      "outputs": [
        {
          "output_type": "execute_result",
          "data": {
            "text/plain": [
              "{'date': '20210914', 'temperature': '30', 'weather': '없음'}"
            ]
          },
          "metadata": {},
          "execution_count": 49
        }
      ],
      "metadata": {
        "colab": {
          "base_uri": "https://localhost:8080/"
        },
        "id": "kxCb_Ah5vD-C",
        "outputId": "d57cb5c0-33ff-4578-f209-fed1fcb65075"
      }
    },
    {
      "cell_type": "markdown",
      "source": [
        "## 전처리까지 완료한 최종 코드"
      ],
      "metadata": {
        "id": "J_Ll2lBcvvhp"
      }
    },
    {
      "cell_type": "code",
      "execution_count": 54,
      "source": [
        "def get_final_weather_data(service_key, base_date, base_time, nx, ny): \n",
        "        \n",
        "    # 1) 데이터 불러오기 \n",
        "    data = get_weather_data(service_key, base_date, base_time, nx, ny)\n",
        "    res = pd.DataFrame(data)\n",
        "    \n",
        "    # 2) 데이터 전처리\n",
        "    # 2-1) 카테고리 보기 편하게 바꾸기\n",
        "    res['category'] = res['category'].apply(change_category)\n",
        "    \n",
        "    \n",
        "    #3) 원하는 정보 뽑기 \n",
        "    \n",
        "    ## 1) 날짜\n",
        "    result = dict()\n",
        "    result['date'] = res.iloc[0]['baseDate']\n",
        "    \n",
        "    ## 2) 기온\n",
        "    temparature = res.loc[res[\"category\"]=='1시간 기온', 'fcstValue'].iloc[0]\n",
        "    result['temperature'] = temparature\n",
        "    \n",
        "    ## 3) 강수량\n",
        "    ''' \n",
        "    강수형태(PTY) 코드 : 없음(0), 비(1), 비/눈(2), 눈(3), 소나기(4), 빗방울(5), 빗방울/눈날림(6), 눈날림(7) <br>\n",
        "    여기서 비/눈은 비와 눈이 섞여 오는 것을 의미 (진눈개비)\n",
        "    '''\n",
        "    weather_state = get_PTY(res)\n",
        "    result['weather'] = weather_state\n",
        "    \n",
        "    return result\n",
        "    "
      ],
      "outputs": [],
      "metadata": {
        "id": "uxs0gYgvvD-C"
      }
    },
    {
      "cell_type": "code",
      "execution_count": 55,
      "source": [
        "result = get_final_weather_data(service_key_en, base_date, base_time, nx, ny)"
      ],
      "outputs": [
        {
          "output_type": "stream",
          "name": "stdout",
          "text": [
            "b'{\"response\":{\"header\":{\"resultCode\":\"00\",\"resultMsg\":\"NORMAL_SERVICE\"},\"body\":{\"dataType\":\"JSON\",\"items\":{\"item\":[{\"baseDate\":\"20210914\",\"baseTime\":\"1400\",\"category\":\"TMP\",\"fcstDate\":\"20210914\",\"fcstTime\":\"1500\",\"fcstValue\":\"30\",\"nx\":61,\"ny\":127},{\"baseDate\":\"20210914\",\"baseTime\":\"1400\",\"category\":\"UUU\",\"fcstDate\":\"20210914\",\"fcstTime\":\"1500\",\"fcstValue\":\"-2.5\",\"nx\":61,\"ny\":127},{\"baseDate\":\"20210914\",\"baseTime\":\"1400\",\"category\":\"VVV\",\"fcstDate\":\"20210914\",\"fcstTime\":\"1500\",\"fcstValue\":\"-1\",\"nx\":61,\"ny\":127},{\"baseDate\":\"20210914\",\"baseTime\":\"1400\",\"category\":\"VEC\",\"fcstDate\":\"20210914\",\"fcstTime\":\"1500\",\"fcstValue\":\"69\",\"nx\":61,\"ny\":127},{\"baseDate\":\"20210914\",\"baseTime\":\"1400\",\"category\":\"WSD\",\"fcstDate\":\"20210914\",\"fcstTime\":\"1500\",\"fcstValue\":\"2.7\",\"nx\":61,\"ny\":127},{\"baseDate\":\"20210914\",\"baseTime\":\"1400\",\"category\":\"SKY\",\"fcstDate\":\"20210914\",\"fcstTime\":\"1500\",\"fcstValue\":\"1\",\"nx\":61,\"ny\":127},{\"baseDate\":\"20210914\",\"baseTime\":\"1400\",\"category\":\"PTY\",\"fcstDate\":\"20210914\",\"fcstTime\":\"1500\",\"fcstValue\":\"0\",\"nx\":61,\"ny\":127},{\"baseDate\":\"20210914\",\"baseTime\":\"1400\",\"category\":\"POP\",\"fcstDate\":\"20210914\",\"fcstTime\":\"1500\",\"fcstValue\":\"0\",\"nx\":61,\"ny\":127},{\"baseDate\":\"20210914\",\"baseTime\":\"1400\",\"category\":\"PCP\",\"fcstDate\":\"20210914\",\"fcstTime\":\"1500\",\"fcstValue\":\"\\xea\\xb0\\x95\\xec\\x88\\x98\\xec\\x97\\x86\\xec\\x9d\\x8c\",\"nx\":61,\"ny\":127},{\"baseDate\":\"20210914\",\"baseTime\":\"1400\",\"category\":\"REH\",\"fcstDate\":\"20210914\",\"fcstTime\":\"1500\",\"fcstValue\":\"40\",\"nx\":61,\"ny\":127}]},\"pageNo\":1,\"numOfRows\":10,\"totalCount\":642}}}'\n"
          ]
        }
      ],
      "metadata": {
        "id": "gOxCLa46vD-C",
        "outputId": "83623992-f8ac-4ed2-e539-b331274e9649",
        "colab": {
          "base_uri": "https://localhost:8080/"
        }
      }
    },
    {
      "cell_type": "code",
      "execution_count": 56,
      "source": [
        "result"
      ],
      "outputs": [
        {
          "output_type": "execute_result",
          "data": {
            "text/plain": [
              "{'date': '20210914', 'temperature': '30', 'weather': '없음'}"
            ]
          },
          "metadata": {},
          "execution_count": 56
        }
      ],
      "metadata": {
        "colab": {
          "base_uri": "https://localhost:8080/"
        },
        "id": "MgHsvFAAvD-C",
        "outputId": "38fd0ebe-d596-48c1-f876-6678ba837419"
      }
    },
    {
      "cell_type": "markdown",
      "source": [
        "# 트위터봇 \n",
        "\n",
        "트위터봇 페이지 : https://twitter.com/osd_weather_BOT"
      ],
      "metadata": {
        "id": "d_LO3BXSvD-D"
      }
    },
    {
      "cell_type": "code",
      "execution_count": 57,
      "source": [
        "!pip install tweepy"
      ],
      "outputs": [
        {
          "output_type": "stream",
          "name": "stdout",
          "text": [
            "Requirement already satisfied: tweepy in /usr/local/lib/python3.7/dist-packages (3.10.0)\n",
            "Requirement already satisfied: requests[socks]>=2.11.1 in /usr/local/lib/python3.7/dist-packages (from tweepy) (2.23.0)\n",
            "Requirement already satisfied: six>=1.10.0 in /usr/local/lib/python3.7/dist-packages (from tweepy) (1.15.0)\n",
            "Requirement already satisfied: requests-oauthlib>=0.7.0 in /usr/local/lib/python3.7/dist-packages (from tweepy) (1.3.0)\n",
            "Requirement already satisfied: oauthlib>=3.0.0 in /usr/local/lib/python3.7/dist-packages (from requests-oauthlib>=0.7.0->tweepy) (3.1.1)\n",
            "Requirement already satisfied: chardet<4,>=3.0.2 in /usr/local/lib/python3.7/dist-packages (from requests[socks]>=2.11.1->tweepy) (3.0.4)\n",
            "Requirement already satisfied: idna<3,>=2.5 in /usr/local/lib/python3.7/dist-packages (from requests[socks]>=2.11.1->tweepy) (2.10)\n",
            "Requirement already satisfied: certifi>=2017.4.17 in /usr/local/lib/python3.7/dist-packages (from requests[socks]>=2.11.1->tweepy) (2021.5.30)\n",
            "Requirement already satisfied: urllib3!=1.25.0,!=1.25.1,<1.26,>=1.21.1 in /usr/local/lib/python3.7/dist-packages (from requests[socks]>=2.11.1->tweepy) (1.24.3)\n",
            "Requirement already satisfied: PySocks!=1.5.7,>=1.5.6 in /usr/local/lib/python3.7/dist-packages (from requests[socks]>=2.11.1->tweepy) (1.7.1)\n"
          ]
        }
      ],
      "metadata": {
        "collapsed": true,
        "jupyter": {
          "outputs_hidden": true
        },
        "id": "IrURxK-DvD-D",
        "colab": {
          "base_uri": "https://localhost:8080/"
        },
        "outputId": "ac4164c0-d019-4142-d004-e954df727969"
      }
    },
    {
      "cell_type": "code",
      "execution_count": 58,
      "source": [
        "# 트위터 api 사용 모듈 가져오기\n",
        "import tweepy"
      ],
      "outputs": [],
      "metadata": {
        "id": "AgfqBQS7vD-D"
      }
    },
    {
      "cell_type": "code",
      "execution_count": 61,
      "source": [
        "def send_twitter(tweet):\r\n",
        "    \r\n",
        "    consumer_key = 'IJisyl2M6Q7hdbaq9NYasbOM6'\r\n",
        "    consumer_secret = 'e0yPwKTBJinaqFE3E2tLLkEj3vMUmlpuUUs3MC3rRGAoTMJitF' # secret key\r\n",
        "    access_token = '796305826046586882-tI26oROu6B64YU02Qho3GoKyIGVmwv4'\r\n",
        "    access_token_secret = 'ol1HmXpV9B1zZqGv8rI3ritbGjg9dqeuQHJbVybtgKna7'\r\n",
        "\r\n",
        "    # 인증키값들 보내주기\r\n",
        "    auth = tweepy.OAuthHandler(consumer_key, consumer_secret) #consumer_key, consumer_secret\r\n",
        "    auth.set_access_token(access_token, access_token_secret) #access_token, access_token_secret\r\n",
        "\r\n",
        "    try :\r\n",
        "        api = tweepy.API(auth)\r\n",
        "        print('트위터 연동 Success')\r\n",
        "    except Exception : \r\n",
        "        print('트위터 연동 Failure')\r\n",
        "    \r\n",
        "    \r\n",
        "    api.update_status(tweet)\r\n",
        "    print(\"전송완료\")"
      ],
      "outputs": [],
      "metadata": {
        "id": "hmShDW5YvD-D"
      }
    },
    {
      "cell_type": "code",
      "execution_count": 62,
      "source": [
        "tweet = '안녕하세요! 저는 날씨봇이라고 합니다!'\r\n",
        "send_twitter(tweet)"
      ],
      "outputs": [
        {
          "output_type": "stream",
          "name": "stdout",
          "text": [
            "트위터 연동 Success\n",
            "전송완료\n"
          ]
        }
      ],
      "metadata": {
        "colab": {
          "base_uri": "https://localhost:8080/"
        },
        "id": "9-lXIH1zvD-D",
        "outputId": "10b59ebf-b7f4-4b81-d388-d53f1c856644"
      }
    },
    {
      "cell_type": "markdown",
      "source": [
        "## 사진도 함께 전송"
      ],
      "metadata": {
        "id": "xMgZvdpOvD-D"
      }
    },
    {
      "cell_type": "code",
      "execution_count": 63,
      "source": [
        "\r\n",
        "consumer_key = 'IJisyl2M6Q7hdbaq9NYasbOM6'\r\n",
        "consumer_secret = 'e0yPwKTBJinaqFE3E2tLLkEj3vMUmlpuUUs3MC3rRGAoTMJitF' # secret key\r\n",
        "access_token = '796305826046586882-tI26oROu6B64YU02Qho3GoKyIGVmwv4'\r\n",
        "access_token_secret = 'ol1HmXpV9B1zZqGv8rI3ritbGjg9dqeuQHJbVybtgKna7'\r\n",
        "\r\n",
        "# 인증키값들 보내주기\r\n",
        "auth = tweepy.OAuthHandler(consumer_key, consumer_secret) #consumer_key, consumer_secret\r\n",
        "auth.set_access_token(access_token, access_token_secret) #access_token, access_token_secret\r\n",
        "\r\n",
        "try :\r\n",
        "    api = tweepy.API(auth)\r\n",
        "    print('트위터 연동 Success')\r\n",
        "except Exception : \r\n",
        "    print('트위터 연동 Failure')"
      ],
      "outputs": [
        {
          "output_type": "stream",
          "name": "stdout",
          "text": [
            "트위터 연동 Success\n"
          ]
        }
      ],
      "metadata": {
        "colab": {
          "base_uri": "https://localhost:8080/"
        },
        "id": "gWy472cLvD-D",
        "outputId": "2dd019db-d7ec-4472-914f-3668903a086e"
      }
    },
    {
      "cell_type": "code",
      "execution_count": 64,
      "source": [
        "# 사진도 같이 업로드!\r\n",
        "tweet = '[날씨봇] 오늘의 날씨입니다!'\r\n",
        "media_ids = []\r\n",
        "res = api.media_upload('./reporter.jpg') # 사진 업로드 먼저 하기!\r\n",
        "# res = api.media_upload('./icon.jpg') # 사진 업로드 먼저 하기!\r\n",
        "media_ids.append(res.media_id)\r\n",
        "api.update_status(media_ids=media_ids,status=tweet)"
      ],
      "outputs": [
        {
          "output_type": "execute_result",
          "data": {
            "text/plain": [
              "Status(_api=<tweepy.api.API object at 0x7fbb16491cd0>, _json={'created_at': 'Tue Sep 14 07:39:03 +0000 2021', 'id': 1437682288737783808, 'id_str': '1437682288737783808', 'text': '[날씨봇] 오늘의 날씨입니다! https://t.co/MQqUREljsG', 'truncated': False, 'entities': {'hashtags': [], 'symbols': [], 'user_mentions': [], 'urls': [], 'media': [{'id': 1437682286925918211, 'id_str': '1437682286925918211', 'indices': [17, 40], 'media_url': 'http://pbs.twimg.com/media/E_OsbDwXMAM8C-3.jpg', 'media_url_https': 'https://pbs.twimg.com/media/E_OsbDwXMAM8C-3.jpg', 'url': 'https://t.co/MQqUREljsG', 'display_url': 'pic.twitter.com/MQqUREljsG', 'expanded_url': 'https://twitter.com/nueees/status/1437682288737783808/photo/1', 'type': 'photo', 'sizes': {'thumb': {'w': 150, 'h': 150, 'resize': 'crop'}, 'small': {'w': 680, 'h': 680, 'resize': 'fit'}, 'large': {'w': 1024, 'h': 1024, 'resize': 'fit'}, 'medium': {'w': 1024, 'h': 1024, 'resize': 'fit'}}}]}, 'extended_entities': {'media': [{'id': 1437682286925918211, 'id_str': '1437682286925918211', 'indices': [17, 40], 'media_url': 'http://pbs.twimg.com/media/E_OsbDwXMAM8C-3.jpg', 'media_url_https': 'https://pbs.twimg.com/media/E_OsbDwXMAM8C-3.jpg', 'url': 'https://t.co/MQqUREljsG', 'display_url': 'pic.twitter.com/MQqUREljsG', 'expanded_url': 'https://twitter.com/nueees/status/1437682288737783808/photo/1', 'type': 'photo', 'sizes': {'thumb': {'w': 150, 'h': 150, 'resize': 'crop'}, 'small': {'w': 680, 'h': 680, 'resize': 'fit'}, 'large': {'w': 1024, 'h': 1024, 'resize': 'fit'}, 'medium': {'w': 1024, 'h': 1024, 'resize': 'fit'}}}]}, 'source': '<a href=\"https://help.twitter.com/en/using-twitter/how-to-tweet#source-labels\" rel=\"nofollow\">WeatherPushBot</a>', 'in_reply_to_status_id': None, 'in_reply_to_status_id_str': None, 'in_reply_to_user_id': None, 'in_reply_to_user_id_str': None, 'in_reply_to_screen_name': None, 'user': {'id': 796305826046586882, 'id_str': '796305826046586882', 'name': 'failover', 'screen_name': 'nueees', 'location': '', 'description': '늙기전에 죽을거임', 'url': None, 'entities': {'description': {'urls': []}}, 'protected': False, 'followers_count': 10, 'friends_count': 187, 'listed_count': 0, 'created_at': 'Wed Nov 09 10:57:58 +0000 2016', 'favourites_count': 3472, 'utc_offset': None, 'time_zone': None, 'geo_enabled': False, 'verified': False, 'statuses_count': 359, 'lang': None, 'contributors_enabled': False, 'is_translator': False, 'is_translation_enabled': False, 'profile_background_color': 'F5F8FA', 'profile_background_image_url': None, 'profile_background_image_url_https': None, 'profile_background_tile': False, 'profile_image_url': 'http://pbs.twimg.com/profile_images/930111048652283905/7BonuKAL_normal.jpg', 'profile_image_url_https': 'https://pbs.twimg.com/profile_images/930111048652283905/7BonuKAL_normal.jpg', 'profile_banner_url': 'https://pbs.twimg.com/profile_banners/796305826046586882/1545966776', 'profile_link_color': '1DA1F2', 'profile_sidebar_border_color': 'C0DEED', 'profile_sidebar_fill_color': 'DDEEF6', 'profile_text_color': '333333', 'profile_use_background_image': True, 'has_extended_profile': True, 'default_profile': True, 'default_profile_image': False, 'following': False, 'follow_request_sent': False, 'notifications': False, 'translator_type': 'none', 'withheld_in_countries': []}, 'geo': None, 'coordinates': None, 'place': None, 'contributors': None, 'is_quote_status': False, 'retweet_count': 0, 'favorite_count': 0, 'favorited': False, 'retweeted': False, 'possibly_sensitive': True, 'lang': 'ko'}, created_at=datetime.datetime(2021, 9, 14, 7, 39, 3), id=1437682288737783808, id_str='1437682288737783808', text='[날씨봇] 오늘의 날씨입니다! https://t.co/MQqUREljsG', truncated=False, entities={'hashtags': [], 'symbols': [], 'user_mentions': [], 'urls': [], 'media': [{'id': 1437682286925918211, 'id_str': '1437682286925918211', 'indices': [17, 40], 'media_url': 'http://pbs.twimg.com/media/E_OsbDwXMAM8C-3.jpg', 'media_url_https': 'https://pbs.twimg.com/media/E_OsbDwXMAM8C-3.jpg', 'url': 'https://t.co/MQqUREljsG', 'display_url': 'pic.twitter.com/MQqUREljsG', 'expanded_url': 'https://twitter.com/nueees/status/1437682288737783808/photo/1', 'type': 'photo', 'sizes': {'thumb': {'w': 150, 'h': 150, 'resize': 'crop'}, 'small': {'w': 680, 'h': 680, 'resize': 'fit'}, 'large': {'w': 1024, 'h': 1024, 'resize': 'fit'}, 'medium': {'w': 1024, 'h': 1024, 'resize': 'fit'}}}]}, extended_entities={'media': [{'id': 1437682286925918211, 'id_str': '1437682286925918211', 'indices': [17, 40], 'media_url': 'http://pbs.twimg.com/media/E_OsbDwXMAM8C-3.jpg', 'media_url_https': 'https://pbs.twimg.com/media/E_OsbDwXMAM8C-3.jpg', 'url': 'https://t.co/MQqUREljsG', 'display_url': 'pic.twitter.com/MQqUREljsG', 'expanded_url': 'https://twitter.com/nueees/status/1437682288737783808/photo/1', 'type': 'photo', 'sizes': {'thumb': {'w': 150, 'h': 150, 'resize': 'crop'}, 'small': {'w': 680, 'h': 680, 'resize': 'fit'}, 'large': {'w': 1024, 'h': 1024, 'resize': 'fit'}, 'medium': {'w': 1024, 'h': 1024, 'resize': 'fit'}}}]}, source='WeatherPushBot', source_url='https://help.twitter.com/en/using-twitter/how-to-tweet#source-labels', in_reply_to_status_id=None, in_reply_to_status_id_str=None, in_reply_to_user_id=None, in_reply_to_user_id_str=None, in_reply_to_screen_name=None, author=User(_api=<tweepy.api.API object at 0x7fbb16491cd0>, _json={'id': 796305826046586882, 'id_str': '796305826046586882', 'name': 'failover', 'screen_name': 'nueees', 'location': '', 'description': '늙기전에 죽을거임', 'url': None, 'entities': {'description': {'urls': []}}, 'protected': False, 'followers_count': 10, 'friends_count': 187, 'listed_count': 0, 'created_at': 'Wed Nov 09 10:57:58 +0000 2016', 'favourites_count': 3472, 'utc_offset': None, 'time_zone': None, 'geo_enabled': False, 'verified': False, 'statuses_count': 359, 'lang': None, 'contributors_enabled': False, 'is_translator': False, 'is_translation_enabled': False, 'profile_background_color': 'F5F8FA', 'profile_background_image_url': None, 'profile_background_image_url_https': None, 'profile_background_tile': False, 'profile_image_url': 'http://pbs.twimg.com/profile_images/930111048652283905/7BonuKAL_normal.jpg', 'profile_image_url_https': 'https://pbs.twimg.com/profile_images/930111048652283905/7BonuKAL_normal.jpg', 'profile_banner_url': 'https://pbs.twimg.com/profile_banners/796305826046586882/1545966776', 'profile_link_color': '1DA1F2', 'profile_sidebar_border_color': 'C0DEED', 'profile_sidebar_fill_color': 'DDEEF6', 'profile_text_color': '333333', 'profile_use_background_image': True, 'has_extended_profile': True, 'default_profile': True, 'default_profile_image': False, 'following': False, 'follow_request_sent': False, 'notifications': False, 'translator_type': 'none', 'withheld_in_countries': []}, id=796305826046586882, id_str='796305826046586882', name='failover', screen_name='nueees', location='', description='늙기전에 죽을거임', url=None, entities={'description': {'urls': []}}, protected=False, followers_count=10, friends_count=187, listed_count=0, created_at=datetime.datetime(2016, 11, 9, 10, 57, 58), favourites_count=3472, utc_offset=None, time_zone=None, geo_enabled=False, verified=False, statuses_count=359, lang=None, contributors_enabled=False, is_translator=False, is_translation_enabled=False, profile_background_color='F5F8FA', profile_background_image_url=None, profile_background_image_url_https=None, profile_background_tile=False, profile_image_url='http://pbs.twimg.com/profile_images/930111048652283905/7BonuKAL_normal.jpg', profile_image_url_https='https://pbs.twimg.com/profile_images/930111048652283905/7BonuKAL_normal.jpg', profile_banner_url='https://pbs.twimg.com/profile_banners/796305826046586882/1545966776', profile_link_color='1DA1F2', profile_sidebar_border_color='C0DEED', profile_sidebar_fill_color='DDEEF6', profile_text_color='333333', profile_use_background_image=True, has_extended_profile=True, default_profile=True, default_profile_image=False, following=False, follow_request_sent=False, notifications=False, translator_type='none', withheld_in_countries=[]), user=User(_api=<tweepy.api.API object at 0x7fbb16491cd0>, _json={'id': 796305826046586882, 'id_str': '796305826046586882', 'name': 'failover', 'screen_name': 'nueees', 'location': '', 'description': '늙기전에 죽을거임', 'url': None, 'entities': {'description': {'urls': []}}, 'protected': False, 'followers_count': 10, 'friends_count': 187, 'listed_count': 0, 'created_at': 'Wed Nov 09 10:57:58 +0000 2016', 'favourites_count': 3472, 'utc_offset': None, 'time_zone': None, 'geo_enabled': False, 'verified': False, 'statuses_count': 359, 'lang': None, 'contributors_enabled': False, 'is_translator': False, 'is_translation_enabled': False, 'profile_background_color': 'F5F8FA', 'profile_background_image_url': None, 'profile_background_image_url_https': None, 'profile_background_tile': False, 'profile_image_url': 'http://pbs.twimg.com/profile_images/930111048652283905/7BonuKAL_normal.jpg', 'profile_image_url_https': 'https://pbs.twimg.com/profile_images/930111048652283905/7BonuKAL_normal.jpg', 'profile_banner_url': 'https://pbs.twimg.com/profile_banners/796305826046586882/1545966776', 'profile_link_color': '1DA1F2', 'profile_sidebar_border_color': 'C0DEED', 'profile_sidebar_fill_color': 'DDEEF6', 'profile_text_color': '333333', 'profile_use_background_image': True, 'has_extended_profile': True, 'default_profile': True, 'default_profile_image': False, 'following': False, 'follow_request_sent': False, 'notifications': False, 'translator_type': 'none', 'withheld_in_countries': []}, id=796305826046586882, id_str='796305826046586882', name='failover', screen_name='nueees', location='', description='늙기전에 죽을거임', url=None, entities={'description': {'urls': []}}, protected=False, followers_count=10, friends_count=187, listed_count=0, created_at=datetime.datetime(2016, 11, 9, 10, 57, 58), favourites_count=3472, utc_offset=None, time_zone=None, geo_enabled=False, verified=False, statuses_count=359, lang=None, contributors_enabled=False, is_translator=False, is_translation_enabled=False, profile_background_color='F5F8FA', profile_background_image_url=None, profile_background_image_url_https=None, profile_background_tile=False, profile_image_url='http://pbs.twimg.com/profile_images/930111048652283905/7BonuKAL_normal.jpg', profile_image_url_https='https://pbs.twimg.com/profile_images/930111048652283905/7BonuKAL_normal.jpg', profile_banner_url='https://pbs.twimg.com/profile_banners/796305826046586882/1545966776', profile_link_color='1DA1F2', profile_sidebar_border_color='C0DEED', profile_sidebar_fill_color='DDEEF6', profile_text_color='333333', profile_use_background_image=True, has_extended_profile=True, default_profile=True, default_profile_image=False, following=False, follow_request_sent=False, notifications=False, translator_type='none', withheld_in_countries=[]), geo=None, coordinates=None, place=None, contributors=None, is_quote_status=False, retweet_count=0, favorite_count=0, favorited=False, retweeted=False, possibly_sensitive=True, lang='ko')"
            ]
          },
          "metadata": {},
          "execution_count": 64
        }
      ],
      "metadata": {
        "collapsed": true,
        "jupyter": {
          "outputs_hidden": true
        },
        "colab": {
          "base_uri": "https://localhost:8080/"
        },
        "id": "3S2L4P80vD-D",
        "outputId": "e20a291e-c712-41bc-f0d0-7f342a10777b"
      }
    },
    {
      "cell_type": "code",
      "execution_count": null,
      "source": [],
      "outputs": [],
      "metadata": {
        "id": "5qw_qtZFvD-E"
      }
    },
    {
      "cell_type": "markdown",
      "source": [
        "## 사진 업로드까지 합친 함수"
      ],
      "metadata": {
        "id": "CNjmLq_MvD-E"
      }
    },
    {
      "cell_type": "code",
      "execution_count": 65,
      "source": [
        "def send_twitter_with_image(tweet, image_path):\r\n",
        "    \r\n",
        "    # 각자 트위터 값으로 바꿔주기\r\n",
        "    consumer_key = 'IJisyl2M6Q7hdbaq9NYasbOM6'\r\n",
        "    consumer_secret = 'e0yPwKTBJinaqFE3E2tLLkEj3vMUmlpuUUs3MC3rRGAoTMJitF' # secret key\r\n",
        "    access_token = '796305826046586882-tI26oROu6B64YU02Qho3GoKyIGVmwv4'\r\n",
        "    access_token_secret = 'ol1HmXpV9B1zZqGv8rI3ritbGjg9dqeuQHJbVybtgKna7'\r\n",
        "\r\n",
        "    # 인증키값들 보내주기\r\n",
        "    auth = tweepy.OAuthHandler(consumer_key, consumer_secret) #consumer_key, consumer_secret\r\n",
        "    auth.set_access_token(access_token, access_token_secret) #access_token, access_token_secret\r\n",
        "    # 파이썬과 트위터봇을 연동완료! \r\n",
        "\r\n",
        "    try :\r\n",
        "        api = tweepy.API(auth)\r\n",
        "        print('트위터 연동 Success')\r\n",
        "    except Exception : \r\n",
        "        print('트위터 연동 Failure')\r\n",
        "    \r\n",
        "    tweet = tweet # 텍스트 \r\n",
        "    media_ids = []\r\n",
        "    res = api.media_upload(image_path) # 사진 업로드 먼저 하기!\r\n",
        "    media_ids.append(res.media_id) # \r\n",
        "    api.update_status(media_ids=media_ids,status=tweet)\r\n",
        "    \r\n",
        "    print(\"전송완료\")"
      ],
      "outputs": [],
      "metadata": {
        "id": "jQB1ZgN9vD-E"
      }
    },
    {
      "cell_type": "code",
      "execution_count": 66,
      "source": [
        "tweet = '[날씨봇] 오늘의 날씨입니다! 날씨가 많이 덥네요.' \r\n",
        "image_path = './reporter.jpg' # 사진의 경로 \r\n",
        "send_twitter_with_image(tweet, image_path)"
      ],
      "outputs": [
        {
          "output_type": "stream",
          "name": "stdout",
          "text": [
            "트위터 연동 Success\n",
            "전송완료\n"
          ]
        }
      ],
      "metadata": {
        "colab": {
          "base_uri": "https://localhost:8080/"
        },
        "id": "xdXisHeNvD-E",
        "outputId": "335650ed-6665-4e74-fd7e-fc3e5dd57cca"
      }
    },
    {
      "cell_type": "code",
      "execution_count": null,
      "source": [],
      "outputs": [],
      "metadata": {
        "id": "6IBqRZVgvD-E"
      }
    },
    {
      "cell_type": "markdown",
      "source": [
        "# 최종\n",
        "##  공공데이터로 불러온 날씨도 넣어서 완성해보자!"
      ],
      "metadata": {
        "id": "LZGHrTK9vD-E"
      }
    },
    {
      "cell_type": "code",
      "execution_count": 67,
      "source": [
        "data"
      ],
      "outputs": [
        {
          "output_type": "execute_result",
          "data": {
            "text/plain": [
              "{'date': '20210914', 'temperature': '30', 'weather': '없음'}"
            ]
          },
          "metadata": {},
          "execution_count": 67
        }
      ],
      "metadata": {
        "colab": {
          "base_uri": "https://localhost:8080/"
        },
        "id": "miNLTKUxgI39",
        "outputId": "8d33c678-cbda-4bb7-f4c8-1896a65fa10b"
      }
    },
    {
      "cell_type": "code",
      "execution_count": 68,
      "source": [
        "def change_rain_data(result):\r\n",
        "    \r\n",
        "    weather = result['weather']\r\n",
        "    \r\n",
        "    if weather =='비':\r\n",
        "        rain_data = '비가 올 것으로 예상됩니다.'\r\n",
        "    elif weather =='비/눈':\r\n",
        "        rain_data = '비나 눈이 올 것으로 예상됩니다.'\r\n",
        "    elif weather == '눈':\r\n",
        "        rain_data = '눈이 올 것으로 예상됩니다.'\r\n",
        "    elif weather == '소나기':\r\n",
        "        rain_data = '소나기가 올 것으로 예상됩니다.'\r\n",
        "    else:\r\n",
        "        rain_data = '비 소식은 없습니다.'\r\n",
        "    \r\n",
        "    return rain_data\r\n",
        "        "
      ],
      "outputs": [],
      "metadata": {
        "id": "kkSbqXm5vD-E"
      }
    },
    {
      "cell_type": "code",
      "execution_count": 69,
      "source": [
        "change_rain_data(result)"
      ],
      "outputs": [
        {
          "output_type": "execute_result",
          "data": {
            "application/vnd.google.colaboratory.intrinsic+json": {
              "type": "string"
            },
            "text/plain": [
              "'비 소식은 없습니다.'"
            ]
          },
          "metadata": {},
          "execution_count": 69
        }
      ],
      "metadata": {
        "colab": {
          "base_uri": "https://localhost:8080/",
          "height": 35
        },
        "id": "C-3SGKGyvD-E",
        "outputId": "2a39ebdd-f735-4ac4-f3e1-0aa5a606f2ce"
      }
    },
    {
      "cell_type": "code",
      "execution_count": 74,
      "source": [
        "  result = get_final_weather_data(service_key_en, base_date, base_time, nx, ny)\r\n",
        "  rain_data = change_rain_data(result)"
      ],
      "outputs": [
        {
          "output_type": "stream",
          "name": "stdout",
          "text": [
            "b'{\"response\":{\"header\":{\"resultCode\":\"00\",\"resultMsg\":\"NORMAL_SERVICE\"},\"body\":{\"dataType\":\"JSON\",\"items\":{\"item\":[{\"baseDate\":\"20210914\",\"baseTime\":\"1400\",\"category\":\"TMP\",\"fcstDate\":\"20210914\",\"fcstTime\":\"1500\",\"fcstValue\":\"30\",\"nx\":61,\"ny\":127},{\"baseDate\":\"20210914\",\"baseTime\":\"1400\",\"category\":\"UUU\",\"fcstDate\":\"20210914\",\"fcstTime\":\"1500\",\"fcstValue\":\"-2.5\",\"nx\":61,\"ny\":127},{\"baseDate\":\"20210914\",\"baseTime\":\"1400\",\"category\":\"VVV\",\"fcstDate\":\"20210914\",\"fcstTime\":\"1500\",\"fcstValue\":\"-1\",\"nx\":61,\"ny\":127},{\"baseDate\":\"20210914\",\"baseTime\":\"1400\",\"category\":\"VEC\",\"fcstDate\":\"20210914\",\"fcstTime\":\"1500\",\"fcstValue\":\"69\",\"nx\":61,\"ny\":127},{\"baseDate\":\"20210914\",\"baseTime\":\"1400\",\"category\":\"WSD\",\"fcstDate\":\"20210914\",\"fcstTime\":\"1500\",\"fcstValue\":\"2.7\",\"nx\":61,\"ny\":127},{\"baseDate\":\"20210914\",\"baseTime\":\"1400\",\"category\":\"SKY\",\"fcstDate\":\"20210914\",\"fcstTime\":\"1500\",\"fcstValue\":\"1\",\"nx\":61,\"ny\":127},{\"baseDate\":\"20210914\",\"baseTime\":\"1400\",\"category\":\"PTY\",\"fcstDate\":\"20210914\",\"fcstTime\":\"1500\",\"fcstValue\":\"0\",\"nx\":61,\"ny\":127},{\"baseDate\":\"20210914\",\"baseTime\":\"1400\",\"category\":\"POP\",\"fcstDate\":\"20210914\",\"fcstTime\":\"1500\",\"fcstValue\":\"0\",\"nx\":61,\"ny\":127},{\"baseDate\":\"20210914\",\"baseTime\":\"1400\",\"category\":\"PCP\",\"fcstDate\":\"20210914\",\"fcstTime\":\"1500\",\"fcstValue\":\"\\xea\\xb0\\x95\\xec\\x88\\x98\\xec\\x97\\x86\\xec\\x9d\\x8c\",\"nx\":61,\"ny\":127},{\"baseDate\":\"20210914\",\"baseTime\":\"1400\",\"category\":\"REH\",\"fcstDate\":\"20210914\",\"fcstTime\":\"1500\",\"fcstValue\":\"40\",\"nx\":61,\"ny\":127}]},\"pageNo\":1,\"numOfRows\":10,\"totalCount\":642}}}'\n"
          ]
        }
      ],
      "metadata": {
        "id": "hK0zD5YRvD-E",
        "outputId": "dc02f8a8-5296-4290-b43d-b24c1e727d8c",
        "colab": {
          "base_uri": "https://localhost:8080/"
        }
      }
    },
    {
      "cell_type": "code",
      "execution_count": 71,
      "source": [
        "def final_code(service_key, base_date, base_time, nx, ny):\n",
        "    \n",
        "    # 1) 데이터를 가져와서 전처리 한 후 원하는 값을 추출하는 과정 \n",
        "    result = get_final_weather_data(service_key, base_date, base_time, nx, ny)\n",
        "    rain_data = change_rain_data(result)\n",
        "    \n",
        "    tweet = '[날씨봇] 오늘의 날씨입니다. 오늘 성북구 기온은 ' + result['temperature'] + '도이고, ' + rain_data\n",
        "    image_path = './reporter.jpg' # 사진의 경로 \n",
        "    send_twitter_with_image(tweet, image_path)"
      ],
      "outputs": [],
      "metadata": {
        "id": "ucZPIF8VvD-F"
      }
    },
    {
      "cell_type": "code",
      "execution_count": 75,
      "source": [
        "tweet = '[날씨봇] 오늘의 날씨입니다. 오늘의 기온은 ' + result['temperature'] + '도이고, ' + rain_data\n",
        "tweet"
      ],
      "outputs": [
        {
          "output_type": "execute_result",
          "data": {
            "application/vnd.google.colaboratory.intrinsic+json": {
              "type": "string"
            },
            "text/plain": [
              "'[날씨봇] 오늘의 날씨입니다. 오늘의 기온은 30도이고, 비 소식은 없습니다.'"
            ]
          },
          "metadata": {},
          "execution_count": 75
        }
      ],
      "metadata": {
        "colab": {
          "base_uri": "https://localhost:8080/",
          "height": 35
        },
        "id": "LTHkQLdXgtRY",
        "outputId": "e4e1475a-d821-4580-a529-6519991d3c8f"
      }
    },
    {
      "cell_type": "code",
      "execution_count": 76,
      "source": [
        "result['temperature']"
      ],
      "outputs": [
        {
          "output_type": "execute_result",
          "data": {
            "application/vnd.google.colaboratory.intrinsic+json": {
              "type": "string"
            },
            "text/plain": [
              "'30'"
            ]
          },
          "metadata": {},
          "execution_count": 76
        }
      ],
      "metadata": {
        "colab": {
          "base_uri": "https://localhost:8080/",
          "height": 35
        },
        "id": "kXbkk79hgnkt",
        "outputId": "23d9598e-4c4c-4396-bf97-13e4029159a6"
      }
    },
    {
      "cell_type": "code",
      "execution_count": 78,
      "source": [
        "final_code(service_key_en, base_date, base_time, nx, ny)"
      ],
      "outputs": [
        {
          "output_type": "stream",
          "name": "stdout",
          "text": [
            "b'{\"response\":{\"header\":{\"resultCode\":\"00\",\"resultMsg\":\"NORMAL_SERVICE\"},\"body\":{\"dataType\":\"JSON\",\"items\":{\"item\":[{\"baseDate\":\"20210914\",\"baseTime\":\"1400\",\"category\":\"TMP\",\"fcstDate\":\"20210914\",\"fcstTime\":\"1500\",\"fcstValue\":\"30\",\"nx\":61,\"ny\":127},{\"baseDate\":\"20210914\",\"baseTime\":\"1400\",\"category\":\"UUU\",\"fcstDate\":\"20210914\",\"fcstTime\":\"1500\",\"fcstValue\":\"-2.5\",\"nx\":61,\"ny\":127},{\"baseDate\":\"20210914\",\"baseTime\":\"1400\",\"category\":\"VVV\",\"fcstDate\":\"20210914\",\"fcstTime\":\"1500\",\"fcstValue\":\"-1\",\"nx\":61,\"ny\":127},{\"baseDate\":\"20210914\",\"baseTime\":\"1400\",\"category\":\"VEC\",\"fcstDate\":\"20210914\",\"fcstTime\":\"1500\",\"fcstValue\":\"69\",\"nx\":61,\"ny\":127},{\"baseDate\":\"20210914\",\"baseTime\":\"1400\",\"category\":\"WSD\",\"fcstDate\":\"20210914\",\"fcstTime\":\"1500\",\"fcstValue\":\"2.7\",\"nx\":61,\"ny\":127},{\"baseDate\":\"20210914\",\"baseTime\":\"1400\",\"category\":\"SKY\",\"fcstDate\":\"20210914\",\"fcstTime\":\"1500\",\"fcstValue\":\"1\",\"nx\":61,\"ny\":127},{\"baseDate\":\"20210914\",\"baseTime\":\"1400\",\"category\":\"PTY\",\"fcstDate\":\"20210914\",\"fcstTime\":\"1500\",\"fcstValue\":\"0\",\"nx\":61,\"ny\":127},{\"baseDate\":\"20210914\",\"baseTime\":\"1400\",\"category\":\"POP\",\"fcstDate\":\"20210914\",\"fcstTime\":\"1500\",\"fcstValue\":\"0\",\"nx\":61,\"ny\":127},{\"baseDate\":\"20210914\",\"baseTime\":\"1400\",\"category\":\"PCP\",\"fcstDate\":\"20210914\",\"fcstTime\":\"1500\",\"fcstValue\":\"\\xea\\xb0\\x95\\xec\\x88\\x98\\xec\\x97\\x86\\xec\\x9d\\x8c\",\"nx\":61,\"ny\":127},{\"baseDate\":\"20210914\",\"baseTime\":\"1400\",\"category\":\"REH\",\"fcstDate\":\"20210914\",\"fcstTime\":\"1500\",\"fcstValue\":\"40\",\"nx\":61,\"ny\":127}]},\"pageNo\":1,\"numOfRows\":10,\"totalCount\":642}}}'\n",
            "트위터 연동 Success\n",
            "전송완료\n"
          ]
        }
      ],
      "metadata": {
        "id": "jv4TYwtYvD-F",
        "colab": {
          "base_uri": "https://localhost:8080/"
        },
        "outputId": "c9f37bbf-ac21-4a99-e338-b813b695d341"
      }
    },
    {
      "cell_type": "markdown",
      "source": [
        "# 매일 아침 8시에 트위터로 날씨 보내기 (스케쥴링)\n",
        "\n",
        "## 여기서부터는 실행하지 말하주세요! "
      ],
      "metadata": {
        "id": "SQexPiXPwPOC"
      }
    },
    {
      "cell_type": "code",
      "execution_count": 79,
      "source": [
        "# 필요 패키지 가져오기\n",
        "import schedule\n",
        "from time import sleep"
      ],
      "outputs": [
        {
          "output_type": "error",
          "ename": "ModuleNotFoundError",
          "evalue": "ignored",
          "traceback": [
            "\u001b[0;31m---------------------------------------------------------------------------\u001b[0m",
            "\u001b[0;31mModuleNotFoundError\u001b[0m                       Traceback (most recent call last)",
            "\u001b[0;32m<ipython-input-79-95e16f24d508>\u001b[0m in \u001b[0;36m<module>\u001b[0;34m()\u001b[0m\n\u001b[1;32m      1\u001b[0m \u001b[0;31m# 필요 패키지 가져오기\u001b[0m\u001b[0;34m\u001b[0m\u001b[0;34m\u001b[0m\u001b[0;34m\u001b[0m\u001b[0m\n\u001b[0;32m----> 2\u001b[0;31m \u001b[0;32mimport\u001b[0m \u001b[0mschedule\u001b[0m\u001b[0;34m\u001b[0m\u001b[0;34m\u001b[0m\u001b[0m\n\u001b[0m\u001b[1;32m      3\u001b[0m \u001b[0;32mfrom\u001b[0m \u001b[0mtime\u001b[0m \u001b[0;32mimport\u001b[0m \u001b[0msleep\u001b[0m\u001b[0;34m\u001b[0m\u001b[0;34m\u001b[0m\u001b[0m\n",
            "\u001b[0;31mModuleNotFoundError\u001b[0m: No module named 'schedule'",
            "",
            "\u001b[0;31m---------------------------------------------------------------------------\u001b[0;32m\nNOTE: If your import is failing due to a missing package, you can\nmanually install dependencies using either !pip or !apt.\n\nTo view examples of installing some common dependencies, click the\n\"Open Examples\" button below.\n\u001b[0;31m---------------------------------------------------------------------------\u001b[0m\n"
          ]
        }
      ],
      "metadata": {
        "id": "UiyherR3wPAT",
        "outputId": "49156efc-0975-4026-d2a2-bbde7d0e968f",
        "colab": {
          "base_uri": "https://localhost:8080/",
          "height": 352
        }
      }
    },
    {
      "cell_type": "code",
      "execution_count": 80,
      "source": [
        "# 매일 xx시 xx분 업로드 되게끔 설정\n",
        "schedule.every().day.at(\"08:10\").do(final_code)\n",
        "while True:\n",
        "    schedule.run_pending()\n",
        "    sleep(30) "
      ],
      "outputs": [
        {
          "output_type": "error",
          "ename": "NameError",
          "evalue": "ignored",
          "traceback": [
            "\u001b[0;31m---------------------------------------------------------------------------\u001b[0m",
            "\u001b[0;31mNameError\u001b[0m                                 Traceback (most recent call last)",
            "\u001b[0;32m<ipython-input-80-2a1c34f8331c>\u001b[0m in \u001b[0;36m<module>\u001b[0;34m()\u001b[0m\n\u001b[1;32m      1\u001b[0m \u001b[0;31m# 매일 xx시 xx분 업로드 되게끔 설정\u001b[0m\u001b[0;34m\u001b[0m\u001b[0;34m\u001b[0m\u001b[0;34m\u001b[0m\u001b[0m\n\u001b[0;32m----> 2\u001b[0;31m \u001b[0mschedule\u001b[0m\u001b[0;34m.\u001b[0m\u001b[0mevery\u001b[0m\u001b[0;34m(\u001b[0m\u001b[0;34m)\u001b[0m\u001b[0;34m.\u001b[0m\u001b[0mday\u001b[0m\u001b[0;34m.\u001b[0m\u001b[0mat\u001b[0m\u001b[0;34m(\u001b[0m\u001b[0;34m\"08:10\"\u001b[0m\u001b[0;34m)\u001b[0m\u001b[0;34m.\u001b[0m\u001b[0mdo\u001b[0m\u001b[0;34m(\u001b[0m\u001b[0mfinal_code\u001b[0m\u001b[0;34m)\u001b[0m\u001b[0;34m\u001b[0m\u001b[0;34m\u001b[0m\u001b[0m\n\u001b[0m\u001b[1;32m      3\u001b[0m \u001b[0;32mwhile\u001b[0m \u001b[0;32mTrue\u001b[0m\u001b[0;34m:\u001b[0m\u001b[0;34m\u001b[0m\u001b[0;34m\u001b[0m\u001b[0m\n\u001b[1;32m      4\u001b[0m     \u001b[0mschedule\u001b[0m\u001b[0;34m.\u001b[0m\u001b[0mrun_pending\u001b[0m\u001b[0;34m(\u001b[0m\u001b[0;34m)\u001b[0m\u001b[0;34m\u001b[0m\u001b[0;34m\u001b[0m\u001b[0m\n\u001b[1;32m      5\u001b[0m     \u001b[0msleep\u001b[0m\u001b[0;34m(\u001b[0m\u001b[0;36m30\u001b[0m\u001b[0;34m)\u001b[0m\u001b[0;34m\u001b[0m\u001b[0;34m\u001b[0m\u001b[0m\n",
            "\u001b[0;31mNameError\u001b[0m: name 'schedule' is not defined"
          ]
        }
      ],
      "metadata": {
        "id": "pNQr16fHwO9W",
        "outputId": "6489cf1f-1fc6-48dc-dbb7-0fb0ce67c77b",
        "colab": {
          "base_uri": "https://localhost:8080/",
          "height": 244
        }
      }
    },
    {
      "cell_type": "code",
      "execution_count": null,
      "source": [],
      "outputs": [],
      "metadata": {
        "id": "-j27A-9RwO7i"
      }
    },
    {
      "cell_type": "code",
      "execution_count": null,
      "source": [],
      "outputs": [],
      "metadata": {
        "id": "03oaJYekwO5w"
      }
    },
    {
      "cell_type": "code",
      "execution_count": null,
      "source": [],
      "outputs": [],
      "metadata": {
        "id": "CGoXFSEkwjYw"
      }
    },
    {
      "cell_type": "markdown",
      "source": [
        "# 과제 "
      ],
      "metadata": {
        "id": "KcSxcOqZwj4T"
      }
    },
    {
      "cell_type": "markdown",
      "source": [
        "# 실시간 미세먼지 데이터 가져와서 트위터로 보내기\n",
        "\n",
        "* 각 구의 실시간 미세먼지 데이터를 가져와서 이를 트위터로 보내기"
      ],
      "metadata": {
        "id": "muVCLFWXvD-F"
      }
    },
    {
      "cell_type": "code",
      "execution_count": null,
      "source": [],
      "outputs": [],
      "metadata": {
        "id": "y7o3k5UTx6i1"
      }
    },
    {
      "cell_type": "code",
      "execution_count": null,
      "source": [],
      "outputs": [],
      "metadata": {
        "id": "xNl4TVOZx6hv"
      }
    },
    {
      "cell_type": "code",
      "execution_count": null,
      "source": [],
      "outputs": [],
      "metadata": {
        "id": "E5WLR5Lrx6fk"
      }
    },
    {
      "cell_type": "code",
      "execution_count": null,
      "source": [],
      "outputs": [],
      "metadata": {
        "id": "rsF8gTlSx6dy"
      }
    },
    {
      "cell_type": "code",
      "execution_count": null,
      "source": [],
      "outputs": [],
      "metadata": {
        "id": "hYK-liYMx6cN"
      }
    },
    {
      "cell_type": "code",
      "execution_count": null,
      "source": [],
      "outputs": [],
      "metadata": {
        "id": "jrAWi_Oax6an"
      }
    },
    {
      "cell_type": "code",
      "execution_count": null,
      "source": [],
      "outputs": [],
      "metadata": {
        "id": "MW6mN_C9x6Y2"
      }
    },
    {
      "cell_type": "code",
      "execution_count": null,
      "source": [],
      "outputs": [],
      "metadata": {
        "id": "BmiRV0nnx6XO"
      }
    },
    {
      "cell_type": "code",
      "execution_count": null,
      "source": [],
      "outputs": [],
      "metadata": {
        "id": "IBIcE2SXx6Vn"
      }
    },
    {
      "cell_type": "code",
      "execution_count": null,
      "source": [],
      "outputs": [],
      "metadata": {
        "id": "E8A0lC6Vx6Sf"
      }
    },
    {
      "cell_type": "code",
      "execution_count": null,
      "source": [],
      "outputs": [],
      "metadata": {
        "id": "5TiftBaNx6Ps"
      }
    },
    {
      "cell_type": "code",
      "execution_count": 81,
      "source": [
        "import requests"
      ],
      "outputs": [],
      "metadata": {
        "id": "Io6na-ZEvD-F"
      }
    },
    {
      "cell_type": "code",
      "execution_count": 93,
      "source": [
        "service_key2_en = 'xTo1X81EZytMXeiOOxfIIWzLnjwGqIn2IbRqipzFLyileSskaztJfAWCojB7XKYy04wIgLcXJamPbWB0%2BsUkow%3D%3D' # 인코딩\n",
        "service_key2_de = 'xTo1X81EZytMXeiOOxfIIWzLnjwGqIn2IbRqipzFLyileSskaztJfAWCojB7XKYy04wIgLcXJamPbWB0+sUkow==' # 디코딩\n",
        "stationName = '성북구'"
      ],
      "outputs": [],
      "metadata": {
        "id": "9-VpQGULvPdB"
      }
    },
    {
      "cell_type": "code",
      "execution_count": 91,
      "source": [
        "def get_fine_dust_data(service_key, stationName):\n",
        "    # Setting for URL parsing\n",
        "\n",
        "    CallBackURL = 'http://apis.data.go.kr/B552584/ArpltnInforInqireSvc/getMsrstnAcctoRltmMesureDnsty'\n",
        "    params = '?' + urlencode({\n",
        "        quote_plus(\"serviceKey\"): service_key,      # 인증키\n",
        "        quote_plus(\"numOfRows\"): \"10\",          # 한 페이지 결과 수 // default : 10\n",
        "        quote_plus(\"pageNo\"): \"1\",              # 페이지 번호 // default : 1\n",
        "        quote_plus(\"returnType\"): \"JSON\",         # 응답자료형식 : XML, JSON\n",
        "        quote_plus(\"stationName\"): stationName,    # 측정소명 // 종로구\n",
        "        quote_plus(\"dataTerm\"): 'DAILY',        # 데이터기간 // 1일: DAILY, 1개월: MONTH, 3개월: 3MONTH\n",
        "        quote_plus(\"ver\"): '1.0',   \n",
        "    })\n",
        "\n",
        "    final_url = CallBackURL + unquote(params)\n",
        "    # 파이썬이 url로 들어가서 데이터를 가져온다. \n",
        "    req = requests.get(final_url)\n",
        "\n",
        "    # Get Data from API\n",
        "    # 가지고온 데이터를 파이썬이 읽는다. \n",
        "    data = req.json()\n",
        "\n",
        "    data = data['response']['body']['items']\n",
        "    \n",
        "    return data\n"
      ],
      "outputs": [],
      "metadata": {
        "id": "X07hZ-gpvPaw"
      }
    },
    {
      "cell_type": "code",
      "execution_count": 94,
      "source": [
        "get_fine_dust_data(service_key2_en, stationName)"
      ],
      "outputs": [
        {
          "output_type": "execute_result",
          "data": {
            "text/plain": [
              "[{'coFlag': None,\n",
              "  'coGrade': '1',\n",
              "  'coValue': '0.5',\n",
              "  'dataTime': '2021-09-14 16:00',\n",
              "  'khaiGrade': '2',\n",
              "  'khaiValue': '64',\n",
              "  'no2Flag': None,\n",
              "  'no2Grade': '1',\n",
              "  'no2Value': '0.016',\n",
              "  'o3Flag': None,\n",
              "  'o3Grade': '2',\n",
              "  'o3Value': '0.047',\n",
              "  'pm10Flag': None,\n",
              "  'pm10Grade': '1',\n",
              "  'pm10Value': '17',\n",
              "  'pm25Flag': None,\n",
              "  'pm25Grade': '1',\n",
              "  'pm25Value': '5',\n",
              "  'so2Flag': None,\n",
              "  'so2Grade': '1',\n",
              "  'so2Value': '0.002'},\n",
              " {'coFlag': None,\n",
              "  'coGrade': '1',\n",
              "  'coValue': '0.5',\n",
              "  'dataTime': '2021-09-14 15:00',\n",
              "  'khaiGrade': '2',\n",
              "  'khaiValue': '65',\n",
              "  'no2Flag': None,\n",
              "  'no2Grade': '1',\n",
              "  'no2Value': '0.016',\n",
              "  'o3Flag': None,\n",
              "  'o3Grade': '2',\n",
              "  'o3Value': '0.048',\n",
              "  'pm10Flag': None,\n",
              "  'pm10Grade': '1',\n",
              "  'pm10Value': '22',\n",
              "  'pm25Flag': None,\n",
              "  'pm25Grade': '1',\n",
              "  'pm25Value': '4',\n",
              "  'so2Flag': None,\n",
              "  'so2Grade': '1',\n",
              "  'so2Value': '0.002'},\n",
              " {'coFlag': None,\n",
              "  'coGrade': '1',\n",
              "  'coValue': '0.5',\n",
              "  'dataTime': '2021-09-14 14:00',\n",
              "  'khaiGrade': '2',\n",
              "  'khaiValue': '64',\n",
              "  'no2Flag': None,\n",
              "  'no2Grade': '1',\n",
              "  'no2Value': '0.014',\n",
              "  'o3Flag': None,\n",
              "  'o3Grade': '2',\n",
              "  'o3Value': '0.047',\n",
              "  'pm10Flag': None,\n",
              "  'pm10Grade': '1',\n",
              "  'pm10Value': '18',\n",
              "  'pm25Flag': None,\n",
              "  'pm25Grade': '1',\n",
              "  'pm25Value': '4',\n",
              "  'so2Flag': None,\n",
              "  'so2Grade': '1',\n",
              "  'so2Value': '0.002'},\n",
              " {'coFlag': None,\n",
              "  'coGrade': '1',\n",
              "  'coValue': '0.6',\n",
              "  'dataTime': '2021-09-14 13:00',\n",
              "  'khaiGrade': '2',\n",
              "  'khaiValue': '62',\n",
              "  'no2Flag': None,\n",
              "  'no2Grade': '1',\n",
              "  'no2Value': '0.014',\n",
              "  'o3Flag': None,\n",
              "  'o3Grade': '2',\n",
              "  'o3Value': '0.044',\n",
              "  'pm10Flag': None,\n",
              "  'pm10Grade': '1',\n",
              "  'pm10Value': '18',\n",
              "  'pm25Flag': None,\n",
              "  'pm25Grade': '1',\n",
              "  'pm25Value': '6',\n",
              "  'so2Flag': None,\n",
              "  'so2Grade': '1',\n",
              "  'so2Value': '0.002'},\n",
              " {'coFlag': None,\n",
              "  'coGrade': '1',\n",
              "  'coValue': '0.6',\n",
              "  'dataTime': '2021-09-14 12:00',\n",
              "  'khaiGrade': '2',\n",
              "  'khaiValue': '57',\n",
              "  'no2Flag': None,\n",
              "  'no2Grade': '1',\n",
              "  'no2Value': '0.013',\n",
              "  'o3Flag': None,\n",
              "  'o3Grade': '2',\n",
              "  'o3Value': '0.038',\n",
              "  'pm10Flag': None,\n",
              "  'pm10Grade': '1',\n",
              "  'pm10Value': '15',\n",
              "  'pm25Flag': None,\n",
              "  'pm25Grade': '1',\n",
              "  'pm25Value': '7',\n",
              "  'so2Flag': None,\n",
              "  'so2Grade': '1',\n",
              "  'so2Value': '0.002'},\n",
              " {'coFlag': None,\n",
              "  'coGrade': '1',\n",
              "  'coValue': '0.6',\n",
              "  'dataTime': '2021-09-14 11:00',\n",
              "  'khaiGrade': '2',\n",
              "  'khaiValue': '52',\n",
              "  'no2Flag': None,\n",
              "  'no2Grade': '1',\n",
              "  'no2Value': '0.018',\n",
              "  'o3Flag': None,\n",
              "  'o3Grade': '2',\n",
              "  'o3Value': '0.032',\n",
              "  'pm10Flag': None,\n",
              "  'pm10Grade': '1',\n",
              "  'pm10Value': '27',\n",
              "  'pm25Flag': None,\n",
              "  'pm25Grade': '1',\n",
              "  'pm25Value': '7',\n",
              "  'so2Flag': None,\n",
              "  'so2Grade': '1',\n",
              "  'so2Value': '0.002'},\n",
              " {'coFlag': None,\n",
              "  'coGrade': '1',\n",
              "  'coValue': '0.7',\n",
              "  'dataTime': '2021-09-14 10:00',\n",
              "  'khaiGrade': '1',\n",
              "  'khaiValue': '42',\n",
              "  'no2Flag': None,\n",
              "  'no2Grade': '1',\n",
              "  'no2Value': '0.021',\n",
              "  'o3Flag': None,\n",
              "  'o3Grade': '1',\n",
              "  'o3Value': '0.022',\n",
              "  'pm10Flag': None,\n",
              "  'pm10Grade': '1',\n",
              "  'pm10Value': '30',\n",
              "  'pm25Flag': None,\n",
              "  'pm25Grade': '1',\n",
              "  'pm25Value': '9',\n",
              "  'so2Flag': None,\n",
              "  'so2Grade': '1',\n",
              "  'so2Value': '0.002'},\n",
              " {'coFlag': None,\n",
              "  'coGrade': '1',\n",
              "  'coValue': '0.7',\n",
              "  'dataTime': '2021-09-14 09:00',\n",
              "  'khaiGrade': '1',\n",
              "  'khaiValue': '38',\n",
              "  'no2Flag': None,\n",
              "  'no2Grade': '1',\n",
              "  'no2Value': '0.023',\n",
              "  'o3Flag': None,\n",
              "  'o3Grade': '1',\n",
              "  'o3Value': '0.016',\n",
              "  'pm10Flag': None,\n",
              "  'pm10Grade': '1',\n",
              "  'pm10Value': '27',\n",
              "  'pm25Flag': None,\n",
              "  'pm25Grade': '1',\n",
              "  'pm25Value': '11',\n",
              "  'so2Flag': None,\n",
              "  'so2Grade': '1',\n",
              "  'so2Value': '0.002'},\n",
              " {'coFlag': None,\n",
              "  'coGrade': '1',\n",
              "  'coValue': '0.7',\n",
              "  'dataTime': '2021-09-14 08:00',\n",
              "  'khaiGrade': '1',\n",
              "  'khaiValue': '42',\n",
              "  'no2Flag': None,\n",
              "  'no2Grade': '1',\n",
              "  'no2Value': '0.025',\n",
              "  'o3Flag': None,\n",
              "  'o3Grade': '1',\n",
              "  'o3Value': '0.010',\n",
              "  'pm10Flag': None,\n",
              "  'pm10Grade': '1',\n",
              "  'pm10Value': '24',\n",
              "  'pm25Flag': None,\n",
              "  'pm25Grade': '1',\n",
              "  'pm25Value': '10',\n",
              "  'so2Flag': None,\n",
              "  'so2Grade': '1',\n",
              "  'so2Value': '0.002'},\n",
              " {'coFlag': None,\n",
              "  'coGrade': '1',\n",
              "  'coValue': '0.7',\n",
              "  'dataTime': '2021-09-14 07:00',\n",
              "  'khaiGrade': '1',\n",
              "  'khaiValue': '42',\n",
              "  'no2Flag': None,\n",
              "  'no2Grade': '1',\n",
              "  'no2Value': '0.025',\n",
              "  'o3Flag': None,\n",
              "  'o3Grade': '1',\n",
              "  'o3Value': '0.007',\n",
              "  'pm10Flag': None,\n",
              "  'pm10Grade': '1',\n",
              "  'pm10Value': '24',\n",
              "  'pm25Flag': None,\n",
              "  'pm25Grade': '1',\n",
              "  'pm25Value': '11',\n",
              "  'so2Flag': None,\n",
              "  'so2Grade': '1',\n",
              "  'so2Value': '0.002'}]"
            ]
          },
          "metadata": {},
          "execution_count": 94
        }
      ],
      "metadata": {
        "colab": {
          "base_uri": "https://localhost:8080/"
        },
        "id": "MjeHYcDSvPZJ",
        "outputId": "b969fd64-d965-40df-c3cc-bc5a3d5dce10"
      }
    },
    {
      "cell_type": "code",
      "execution_count": 95,
      "source": [
        "data = get_fine_dust_data(service_key2_en, stationName)\n",
        "data = pd.DataFrame(data)"
      ],
      "outputs": [],
      "metadata": {
        "id": "2l890va7vS-d"
      }
    },
    {
      "cell_type": "code",
      "execution_count": 96,
      "source": [
        "final_data = dict()\n",
        "final_data['date'] = data.iloc[0]['dataTime']\n",
        "final_data"
      ],
      "outputs": [
        {
          "output_type": "execute_result",
          "data": {
            "text/plain": [
              "{'date': '2021-09-14 16:00'}"
            ]
          },
          "metadata": {},
          "execution_count": 96
        }
      ],
      "metadata": {
        "colab": {
          "base_uri": "https://localhost:8080/"
        },
        "id": "CwdrIFmSvS76",
        "outputId": "ac957886-94f6-46fa-a447-502dbb6553b6"
      }
    },
    {
      "cell_type": "code",
      "execution_count": 97,
      "source": [
        "final_data['미세먼지'] = data.iloc[0]['pm10Value']\n",
        "final_data"
      ],
      "outputs": [
        {
          "output_type": "execute_result",
          "data": {
            "text/plain": [
              "{'date': '2021-09-14 16:00', '미세먼지': '17'}"
            ]
          },
          "metadata": {},
          "execution_count": 97
        }
      ],
      "metadata": {
        "colab": {
          "base_uri": "https://localhost:8080/"
        },
        "id": "xERM7oEZvXMz",
        "outputId": "caee2b4e-f62b-4513-bcd1-693e568ebc49"
      }
    },
    {
      "cell_type": "code",
      "execution_count": 98,
      "source": [
        "final_data['초미세먼지'] = data.iloc[0]['pm25Value']\n",
        "final_data"
      ],
      "outputs": [
        {
          "output_type": "execute_result",
          "data": {
            "text/plain": [
              "{'date': '2021-09-14 16:00', '미세먼지': '17', '초미세먼지': '5'}"
            ]
          },
          "metadata": {},
          "execution_count": 98
        }
      ],
      "metadata": {
        "colab": {
          "base_uri": "https://localhost:8080/"
        },
        "id": "K8MYafLOvXKD",
        "outputId": "fb60ef55-b571-46b8-c67b-8cba7a50ba7e"
      }
    },
    {
      "cell_type": "code",
      "execution_count": 99,
      "source": [
        "def get_final_dust_data(service_key, stationName):\n",
        "    \n",
        "    data = get_fine_dust_data(service_key, stationName)\n",
        "    data = pd.DataFrame(data)\n",
        "    \n",
        "    final_data = dict()\n",
        "    final_data['date'] = data.iloc[0]['dataTime']\n",
        "    \n",
        "    final_data['미세먼지'] = data.iloc[0]['pm10Value']\n",
        "    \n",
        "    final_data['초미세먼지'] = data.iloc[0]['pm25Value']\n",
        "    \n",
        "    return final_data"
      ],
      "outputs": [],
      "metadata": {
        "id": "7mLdV_qtvZKT"
      }
    },
    {
      "cell_type": "code",
      "execution_count": 101,
      "source": [
        "final_data = get_final_dust_data(service_key_en, stationName)\n",
        "final_data"
      ],
      "outputs": [
        {
          "output_type": "execute_result",
          "data": {
            "text/plain": [
              "{'date': '2021-09-14 16:00', '미세먼지': '17', '초미세먼지': '5'}"
            ]
          },
          "metadata": {},
          "execution_count": 101
        }
      ],
      "metadata": {
        "colab": {
          "base_uri": "https://localhost:8080/"
        },
        "id": "izAFJ5_Ovag9",
        "outputId": "6678b869-3ced-4b9c-dbe7-dbb42537b917"
      }
    },
    {
      "cell_type": "code",
      "execution_count": 107,
      "source": [
        "def get_fine_dust_text(final_data, stationName):\n",
        "    \n",
        "    date = final_data['date'].split(' ')[1][0:2]\n",
        "    text = '[미세먼지봇] 현재 ' + date + '시 기준, '+ stationName + '의 미세먼지 농도는 ' + final_data['미세먼지'] + '이고, 초미세먼지 농도는 ' + final_data['초미세먼지'] + '입니다.'\n",
        "    \n",
        "    return text"
      ],
      "outputs": [],
      "metadata": {
        "id": "eicBEi_3vbz6"
      }
    },
    {
      "cell_type": "code",
      "execution_count": 108,
      "source": [
        "text = get_fine_dust_text(final_data, stationName = '성북구')\n",
        "text"
      ],
      "outputs": [
        {
          "output_type": "execute_result",
          "data": {
            "application/vnd.google.colaboratory.intrinsic+json": {
              "type": "string"
            },
            "text/plain": [
              "'[미세먼지봇] 현재 16시 기준, 성북구의 미세먼지 농도는 17이고, 초미세먼지 농도는 5입니다.'"
            ]
          },
          "metadata": {},
          "execution_count": 108
        }
      ],
      "metadata": {
        "colab": {
          "base_uri": "https://localhost:8080/",
          "height": 35
        },
        "id": "SffzI-t8vdC5",
        "outputId": "baf280c8-1051-4254-9395-1e2898fc145b"
      }
    },
    {
      "cell_type": "code",
      "execution_count": 109,
      "source": [
        "def final_find_dust_code(service_key, stationName):\n",
        "    \n",
        "    # 1) 데이터를 가져와서 전처리 한 후 원하는 값을 추출하는 과정 \n",
        "    result = get_final_dust_data(service_key, stationName)\n",
        "    \n",
        "    # 2) 제목, 본문 설정 \n",
        "    text = get_fine_dust_text(final_data, stationName)\n",
        "    title = '[미세봇] 오늘의 미세먼지 봇'\n",
        "\n",
        "    image_path = './reporter.jpg' # 사진의 경로 \n",
        "    send_twitter_with_image(text, image_path)"
      ],
      "outputs": [],
      "metadata": {
        "id": "L6-wfGOUvc9I"
      }
    },
    {
      "cell_type": "code",
      "execution_count": 110,
      "source": [
        "final_find_dust_code(service_key_en, stationName)"
      ],
      "outputs": [
        {
          "output_type": "stream",
          "name": "stdout",
          "text": [
            "트위터 연동 Success\n",
            "전송완료\n"
          ]
        }
      ],
      "metadata": {
        "colab": {
          "base_uri": "https://localhost:8080/"
        },
        "id": "IY3MuO_Wvhed",
        "outputId": "46ef4a09-c45a-4802-ea02-1db9bee3e179"
      }
    },
    {
      "cell_type": "code",
      "execution_count": null,
      "source": [],
      "outputs": [],
      "metadata": {
        "id": "5MUifJu-vksa"
      }
    }
  ]
}